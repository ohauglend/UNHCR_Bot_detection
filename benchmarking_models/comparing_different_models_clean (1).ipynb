{
  "nbformat": 4,
  "nbformat_minor": 0,
  "metadata": {
    "colab": {
      "provenance": []
    },
    "kernelspec": {
      "name": "python3",
      "display_name": "Python 3"
    },
    "language_info": {
      "name": "python"
    },
    "gpuClass": "standard"
  },
  "cells": [
    {
      "cell_type": "markdown",
      "source": [
        "# Imports"
      ],
      "metadata": {
        "id": "pmILAaKEUDCm"
      }
    },
    {
      "cell_type": "code",
      "source": [
        "\n",
        "## Mount = enables file access in explorer\n",
        "from google.colab import drive\n",
        "drive.mount('/content/drive')\n",
        "\n",
        "#!pip install numpy == 1.21.6\n",
        "\n",
        "import numpy as np\n",
        "import pandas as pd\n",
        "import re\n",
        "import random\n",
        "import tensorflow as tf\n",
        "import time\n",
        "from sklearn import preprocessing\n",
        "from sklearn.metrics import precision_recall_fscore_support\n",
        "\n",
        "from sklearn.neural_network import MLPClassifier\n",
        "\n",
        "from sklearn.ensemble import RandomForestClassifier\n",
        "\n",
        "from sklearn.pipeline import make_pipeline\n",
        "from sklearn.preprocessing import StandardScaler\n",
        "from sklearn.svm import SVC\n"
      ],
      "metadata": {
        "colab": {
          "base_uri": "https://localhost:8080/"
        },
        "id": "h9NFPlzVUEfp",
        "outputId": "4dc79f5d-ab90-402e-870f-dbeb2f9a5b22"
      },
      "execution_count": null,
      "outputs": [
        {
          "output_type": "stream",
          "name": "stdout",
          "text": [
            "Mounted at /content/drive\n"
          ]
        }
      ]
    },
    {
      "cell_type": "markdown",
      "source": [
        "# Reading in training and test data (df2 and df3)"
      ],
      "metadata": {
        "id": "9RBy5664Tz5R"
      }
    },
    {
      "cell_type": "code",
      "source": [
        "df2 = pd.read_json(TRAINING_DATA_FILE_PATH)\n",
        "df3 = pd.read_json(TEST_DATA_FILE_PATH)\n"
      ],
      "metadata": {
        "id": "CGyL2YqLT22y"
      },
      "execution_count": null,
      "outputs": []
    },
    {
      "cell_type": "markdown",
      "source": [
        "# Processing"
      ],
      "metadata": {
        "id": "leLfCr9eVx-6"
      }
    },
    {
      "cell_type": "code",
      "source": [
        "X_train = df2.loc[:, df2.columns != 'Bot']\n",
        "y_train = df2['Bot']\n",
        "X_test = df3.loc[:, df3.columns != 'Bot']\n",
        "y_test = df3['Bot']\n",
        "\n",
        "scaler = preprocessing.StandardScaler().fit(X_train)\n",
        "X_scaled = scaler.transform(X_train)\n",
        "X_test = scaler.transform(X_test)"
      ],
      "metadata": {
        "id": "Em7A57lBgORI"
      },
      "execution_count": null,
      "outputs": []
    },
    {
      "cell_type": "markdown",
      "source": [
        "# MLP"
      ],
      "metadata": {
        "id": "m4yT2wRWfaxc"
      }
    },
    {
      "cell_type": "code",
      "source": [
        "start_time = time.time()\n",
        "MLP = MLPClassifier(solver='adam', alpha=1e-5,\n",
        "                    hidden_layer_sizes=(10, 2), random_state=1)\n",
        "\n",
        "MLP.fit(X_scaled, y_train)\n",
        "print(\"--- %s seconds ---\" % (time.time() - start_time))\n",
        "\n",
        "\n",
        "y_pred_MLP = MLP.predict(X_test)\n",
        "\n",
        "MLP_accuracy = np.array([y_pred_MLP == y_test]).sum()/len(y_test)\n",
        "print(MLP_accuracy)\n",
        "\n",
        "precision_recall_fscore_support(y_test, y_pred_MLP, average='macro')"
      ],
      "metadata": {
        "colab": {
          "base_uri": "https://localhost:8080/"
        },
        "id": "lX5yeSSIKnAy",
        "outputId": "5dc86019-8f50-4b2d-ed61-fa01098b0dff"
      },
      "execution_count": 2,
      "outputs": [
        {
          "output_type": "stream",
          "name": "stdout",
          "text": [
            "--- 6.98765345 seconds ---\n",
            "0.63245\n",
            "(0.52323, 0.56125, 0.534, None)\n"
          ]
        }
      ]
    },
    {
      "cell_type": "markdown",
      "source": [
        "# Random Forest"
      ],
      "metadata": {
        "id": "ArUpudeD5tys"
      }
    },
    {
      "cell_type": "code",
      "source": [
        "start_time = time.time()\n",
        "clf = RandomForestClassifier(max_depth=50, random_state=42)\n",
        "clf.fit(X_scaled, y_train)\n",
        "\n",
        "print(\"--- %s seconds ---\" % (time.time() - start_time))\n",
        "y_pred_RF = clf.predict(X_test)\n",
        "\n",
        "accuracy_RF = np.array([y_pred_RF == y_test]).sum()/len(y_test)\n",
        "print(accuracy_RF)\n",
        "precision_recall_fscore_support(y_test, y_pred_RF, average='macro')\n"
      ],
      "metadata": {
        "colab": {
          "base_uri": "https://localhost:8080/"
        },
        "id": "ZLPjpi-i4kZS",
        "outputId": "deeea50c-2ac3-401d-85c5-be620bc7bcae"
      },
      "execution_count": 3,
      "outputs": [
        {
          "output_type": "stream",
          "name": "stdout",
          "text": [
            "--- 18.83429 seconds ---\n",
            "0.851125\n",
            "(0.5094, 0.5105, 0.5012, None)\n"
          ]
        }
      ]
    },
    {
      "cell_type": "markdown",
      "source": [
        "# SVM"
      ],
      "metadata": {
        "id": "EfsBBYndAp0Y"
      }
    },
    {
      "cell_type": "code",
      "source": [
        "start_time = time.time()\n",
        "\n",
        "\n",
        "SVM = make_pipeline(StandardScaler(), SVC(gamma='auto'))\n",
        "SVM.fit(X_train, y_train)\n",
        "\n",
        "print(\"--- %s seconds ---\" % (time.time() - start_time))\n",
        "y_pred_SVM = SVM.predict(X_test)\n",
        "accuracy_SVM = np.array([y_pred_SVM == y_test]).sum()/len(y_test)\n",
        "print(accuracy_SVM)\n",
        "precision_recall_fscore_support(y_test, y_pred_SVM, average='macro')"
      ],
      "metadata": {
        "colab": {
          "base_uri": "https://localhost:8080/"
        },
        "id": "q1hRMzlM3ucr",
        "outputId": "0774083b-14f9-46ae-c8c6-7a0d87e7e7de"
      },
      "execution_count": 4,
      "outputs": [
        {
          "output_type": "stream",
          "name": "stdout",
          "text": [
            "--- 430.346777 seconds ---\n",
            "0.7865\n",
            "(0.49686, 0.5, 0.4925, None)\n"
          ]
        }
      ]
    }
  ]
}