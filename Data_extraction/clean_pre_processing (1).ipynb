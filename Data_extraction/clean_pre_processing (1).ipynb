{
  "cells": [
    {
      "cell_type": "code",
      "execution_count": null,
      "metadata": {
        "colab": {
          "base_uri": "https://localhost:8080/"
        },
        "id": "R_qzOw-S19qY",
        "outputId": "4ed94e7d-97de-4812-98fd-7cecb1355386"
      },
      "outputs": [
        {
          "output_type": "stream",
          "name": "stdout",
          "text": [
            "Mounted at /content/drive\n",
            "Looking in indexes: https://pypi.org/simple, https://us-python.pkg.dev/colab-wheels/public/simple/\n",
            "Collecting GeoText\n",
            "  Downloading geotext-0.4.0-py2.py3-none-any.whl (2.0 MB)\n",
            "\u001b[K     |████████████████████████████████| 2.0 MB 5.0 MB/s \n",
            "\u001b[?25hInstalling collected packages: GeoText\n",
            "Successfully installed GeoText-0.4.0\n",
            "Looking in indexes: https://pypi.org/simple, https://us-python.pkg.dev/colab-wheels/public/simple/\n",
            "Collecting googletrans==3.1.0a0\n",
            "  Downloading googletrans-3.1.0a0.tar.gz (19 kB)\n",
            "Collecting httpx==0.13.3\n",
            "  Downloading httpx-0.13.3-py3-none-any.whl (55 kB)\n",
            "\u001b[K     |████████████████████████████████| 55 kB 2.2 MB/s \n",
            "\u001b[?25hCollecting rfc3986<2,>=1.3\n",
            "  Downloading rfc3986-1.5.0-py2.py3-none-any.whl (31 kB)\n",
            "Collecting httpcore==0.9.*\n",
            "  Downloading httpcore-0.9.1-py3-none-any.whl (42 kB)\n",
            "\u001b[K     |████████████████████████████████| 42 kB 1.2 MB/s \n",
            "\u001b[?25hRequirement already satisfied: chardet==3.* in /usr/local/lib/python3.7/dist-packages (from httpx==0.13.3->googletrans==3.1.0a0) (3.0.4)\n",
            "Requirement already satisfied: certifi in /usr/local/lib/python3.7/dist-packages (from httpx==0.13.3->googletrans==3.1.0a0) (2022.9.24)\n",
            "Collecting sniffio\n",
            "  Downloading sniffio-1.3.0-py3-none-any.whl (10 kB)\n",
            "Collecting hstspreload\n",
            "  Downloading hstspreload-2022.10.1-py3-none-any.whl (1.4 MB)\n",
            "\u001b[K     |████████████████████████████████| 1.4 MB 11.0 MB/s \n",
            "\u001b[?25hRequirement already satisfied: idna==2.* in /usr/local/lib/python3.7/dist-packages (from httpx==0.13.3->googletrans==3.1.0a0) (2.10)\n",
            "Collecting h2==3.*\n",
            "  Downloading h2-3.2.0-py2.py3-none-any.whl (65 kB)\n",
            "\u001b[K     |████████████████████████████████| 65 kB 3.4 MB/s \n",
            "\u001b[?25hCollecting h11<0.10,>=0.8\n",
            "  Downloading h11-0.9.0-py2.py3-none-any.whl (53 kB)\n",
            "\u001b[K     |████████████████████████████████| 53 kB 2.0 MB/s \n",
            "\u001b[?25hCollecting hyperframe<6,>=5.2.0\n",
            "  Downloading hyperframe-5.2.0-py2.py3-none-any.whl (12 kB)\n",
            "Collecting hpack<4,>=3.0\n",
            "  Downloading hpack-3.0.0-py2.py3-none-any.whl (38 kB)\n",
            "Building wheels for collected packages: googletrans\n",
            "  Building wheel for googletrans (setup.py) ... \u001b[?25l\u001b[?25hdone\n",
            "  Created wheel for googletrans: filename=googletrans-3.1.0a0-py3-none-any.whl size=16367 sha256=0f4b5acf2b3538d2b9be6b0f3f719129b730d7afe12fb2af877d8fc6c1128e5a\n",
            "  Stored in directory: /root/.cache/pip/wheels/0c/be/fe/93a6a40ffe386e16089e44dad9018ebab9dc4cb9eb7eab65ae\n",
            "Successfully built googletrans\n",
            "Installing collected packages: hyperframe, hpack, sniffio, h2, h11, rfc3986, httpcore, hstspreload, httpx, googletrans\n",
            "Successfully installed googletrans-3.1.0a0 h11-0.9.0 h2-3.2.0 hpack-3.0.0 hstspreload-2022.10.1 httpcore-0.9.1 httpx-0.13.3 hyperframe-5.2.0 rfc3986-1.5.0 sniffio-1.3.0\n",
            "Looking in indexes: https://pypi.org/simple, https://us-python.pkg.dev/colab-wheels/public/simple/\n",
            "Collecting gender-guesser\n",
            "  Downloading gender_guesser-0.4.0-py2.py3-none-any.whl (379 kB)\n",
            "\u001b[K     |████████████████████████████████| 379 kB 4.9 MB/s \n",
            "\u001b[?25hInstalling collected packages: gender-guesser\n",
            "Successfully installed gender-guesser-0.4.0\n",
            "Looking in indexes: https://pypi.org/simple, https://us-python.pkg.dev/colab-wheels/public/simple/\n",
            "Collecting tweepy==4.8.0\n",
            "  Downloading tweepy-4.8.0-py2.py3-none-any.whl (77 kB)\n",
            "\u001b[K     |████████████████████████████████| 77 kB 3.2 MB/s \n",
            "\u001b[?25hRequirement already satisfied: requests-oauthlib<2,>=1.2.0 in /usr/local/lib/python3.7/dist-packages (from tweepy==4.8.0) (1.3.1)\n",
            "Collecting requests<3,>=2.27.0\n",
            "  Downloading requests-2.28.1-py3-none-any.whl (62 kB)\n",
            "\u001b[K     |████████████████████████████████| 62 kB 1.3 MB/s \n",
            "\u001b[?25hRequirement already satisfied: oauthlib<4,>=3.2.0 in /usr/local/lib/python3.7/dist-packages (from tweepy==4.8.0) (3.2.2)\n",
            "Requirement already satisfied: charset-normalizer<3,>=2 in /usr/local/lib/python3.7/dist-packages (from requests<3,>=2.27.0->tweepy==4.8.0) (2.1.1)\n",
            "Requirement already satisfied: urllib3<1.27,>=1.21.1 in /usr/local/lib/python3.7/dist-packages (from requests<3,>=2.27.0->tweepy==4.8.0) (1.24.3)\n",
            "Requirement already satisfied: idna<4,>=2.5 in /usr/local/lib/python3.7/dist-packages (from requests<3,>=2.27.0->tweepy==4.8.0) (2.10)\n",
            "Requirement already satisfied: certifi>=2017.4.17 in /usr/local/lib/python3.7/dist-packages (from requests<3,>=2.27.0->tweepy==4.8.0) (2022.9.24)\n",
            "Installing collected packages: requests, tweepy\n",
            "  Attempting uninstall: requests\n",
            "    Found existing installation: requests 2.23.0\n",
            "    Uninstalling requests-2.23.0:\n",
            "      Successfully uninstalled requests-2.23.0\n",
            "  Attempting uninstall: tweepy\n",
            "    Found existing installation: tweepy 3.10.0\n",
            "    Uninstalling tweepy-3.10.0:\n",
            "      Successfully uninstalled tweepy-3.10.0\n",
            "Successfully installed requests-2.28.1 tweepy-4.8.0\n",
            "Looking in indexes: https://pypi.org/simple, https://us-python.pkg.dev/colab-wheels/public/simple/\n",
            "Collecting langdetect\n",
            "  Downloading langdetect-1.0.9.tar.gz (981 kB)\n",
            "\u001b[K     |████████████████████████████████| 981 kB 5.1 MB/s \n",
            "\u001b[?25hRequirement already satisfied: six in /usr/local/lib/python3.7/dist-packages (from langdetect) (1.15.0)\n",
            "Building wheels for collected packages: langdetect\n",
            "  Building wheel for langdetect (setup.py) ... \u001b[?25l\u001b[?25hdone\n",
            "  Created wheel for langdetect: filename=langdetect-1.0.9-py3-none-any.whl size=993242 sha256=706148f72c9052ea9b8cce65b571c8b8d4e4ac4b17d37f3d972831b47c816b48\n",
            "  Stored in directory: /root/.cache/pip/wheels/c5/96/8a/f90c59ed25d75e50a8c10a1b1c2d4c402e4dacfa87f3aff36a\n",
            "Successfully built langdetect\n",
            "Installing collected packages: langdetect\n",
            "Successfully installed langdetect-1.0.9\n"
          ]
        }
      ],
      "source": [
        "## Mount = enables file access in explorer\n",
        "from google.colab import drive\n",
        "drive.mount('/content/drive')\n",
        "\n",
        "import pandas as pd\n",
        "import re\n",
        "import numpy as np\n",
        "import os\n",
        "from tqdm import tqdm\n",
        "\n",
        "\n",
        "#Installing required library for getting location:\n",
        "!pip install GeoText\n",
        "from geotext import GeoText\n",
        "\n",
        "#Installing required library for language detection:\n",
        "#Need >= 3.0.0\n",
        "!pip install googletrans==3.1.0a0\n",
        "from googletrans import Translator\n",
        "\n",
        "#Installing the required libraries for extracting twitter data\n",
        "!pip install gender-guesser\n",
        "#Need >= 4.8.0\n",
        "!pip install tweepy==4.8.0\n",
        "\n",
        "\n",
        "import tweepy as tw\n",
        "from tweepy.errors import TooManyRequests\n",
        "\n",
        "#from datetime import datetime, timedelta\n",
        "import gender_guesser.detector\n",
        "import copy\n",
        "from datetime import date, timedelta, datetime\n",
        "import warnings\n",
        "import time\n",
        "\n",
        "#Library needed for language detection\n",
        "! pip install langdetect\n",
        "from langdetect import detect, detect_langs, LangDetectException"
      ]
    },
    {
      "cell_type": "markdown",
      "metadata": {
        "id": "eB3GOV_Nbo-j"
      },
      "source": [
        "# Pre-processing"
      ]
    },
    {
      "cell_type": "markdown",
      "metadata": {
        "id": "Fi22w-Mpb6zh"
      },
      "source": [
        "## Reading concatenated data"
      ]
    },
    {
      "cell_type": "code",
      "source": [
        "df = pd.read_json('/content/drive/MyDrive/Bot detection/Data/main_data.json')\n",
        "df"
      ],
      "metadata": {
        "colab": {
          "base_uri": "https://localhost:8080/",
          "height": 817
        },
        "id": "b_DM6jfDwISl",
        "outputId": "4c9417fc-97cc-4531-8def-98b746f21b09"
      },
      "execution_count": null,
      "outputs": [
        {
          "output_type": "execute_result",
          "data": {
            "text/plain": [
              "                             created_at_1               user_id  \\\n",
              "0               2020-01-16 02:02:55+00:00  u1217628182611927040   \n",
              "1               2014-07-02 17:56:46+00:00           u2664730894   \n",
              "2               2020-05-30 12:10:45+00:00  u1266703520205549568   \n",
              "3               2019-01-26 13:52:49+00:00  u1089159225148882949   \n",
              "4               2009-04-30 19:01:42+00:00             u36741729   \n",
              "...                                   ...                   ...   \n",
              "1058411  \"Fri Mar 02 22:13:07 +0000 2018\"             188645930   \n",
              "1058412  \"Sat Mar 10 04:52:16 +0000 2018\"             552236544   \n",
              "1058413  \"Fri Mar 16 19:28:34 +0000 2018\"            1933105668   \n",
              "1058414  \"Sat Mar 10 04:42:55 +0000 2018\"            3222769956   \n",
              "1058415  \"Sat Mar 10 05:55:45 +0000 2018\"    766645102148059136   \n",
              "\n",
              "                         user_name  user_screen_name        user_location  \\\n",
              "0                       Boaz Barak      boazbaraktcs        Cambridge, MA   \n",
              "1                        olawale 💨           wale_io                    🎈   \n",
              "2                     panagiota_.b       b_panagiota                 None   \n",
              "3        Jacqueline Hodges, MD MPH      jachodges_md  Charlottesville, VA   \n",
              "4             Matthew Stubblefield     Matthew_Brody        United States   \n",
              "...                            ...               ...                  ...   \n",
              "1058411              \"Bessie Gate\"       \"ikumi0926\"             \"Hawaii\"   \n",
              "1058412              \"Paula Macey\"     \"MingzeLi123\"                   \"\"   \n",
              "1058413             \"Wendy Palmer\"     \"HeyyJessica\"                   \"\"   \n",
              "1058414               \"Irene Miln\"  \"Clown327426514\"                   \"\"   \n",
              "1058415                                                                     \n",
              "\n",
              "                                          user_description  \\\n",
              "0        Theoretical Computer Scientist. See also https...   \n",
              "1                                               creative _   \n",
              "2                                                        👽   \n",
              "3        mama to maya. ABIM research pathway fellow @UV...   \n",
              "4                      Father / SWT Alumnus / Longhorn Fan   \n",
              "...                                                    ...   \n",
              "1058411                                    To be populated   \n",
              "1058412                                    To be populated   \n",
              "1058413                                    To be populated   \n",
              "1058414                                    To be populated   \n",
              "1058415                                    To be populated   \n",
              "\n",
              "                        user_url protected followers_count friends_count  ...  \\\n",
              "0        https://t.co/BoMip9FF17     False            7316           215  ...   \n",
              "1                                    False             123          1090  ...   \n",
              "2                                    False               3            62  ...   \n",
              "3                                    False             350           577  ...   \n",
              "4                                     True             240           297  ...   \n",
              "...                          ...       ...             ...           ...  ...   \n",
              "1058411                     null     false              24             0  ...   \n",
              "1058412                     null     false               7             0  ...   \n",
              "1058413                     null     false              74             0  ...   \n",
              "1058414                     null     false               3             0  ...   \n",
              "1058415                                                                   ...   \n",
              "\n",
              "           notifications  translator_type pinned_tweet_id withheld Bot  \\\n",
              "0        To be populated  To be populated            None     None   0   \n",
              "1        To be populated  To be populated            None     None   0   \n",
              "2        To be populated  To be populated            None     None   0   \n",
              "3        To be populated  To be populated            None     None   0   \n",
              "4        To be populated  To be populated            None     None   1   \n",
              "...                  ...              ...             ...      ...  ..   \n",
              "1058411            false           \"none\"            None     None   1   \n",
              "1058412            false           \"none\"            None     None   1   \n",
              "1058413            false           \"none\"            None     None   1   \n",
              "1058414            false           \"none\"            None     None   1   \n",
              "1058415                            \"none\"            None     None   1   \n",
              "\n",
              "             Source/label has_extended_profile profile_location  \\\n",
              "0                TwiBot22                 None             None   \n",
              "1                TwiBot22                 None             None   \n",
              "2                TwiBot22                 None             None   \n",
              "3                TwiBot22                 None             None   \n",
              "4                TwiBot22                 None             None   \n",
              "...                   ...                  ...              ...   \n",
              "1058411  pronbots_2019_df                 None             None   \n",
              "1058412  pronbots_2019_df                 None             None   \n",
              "1058413  pronbots_2019_df                 None             None   \n",
              "1058414  pronbots_2019_df                 None             None   \n",
              "1058415  pronbots_2019_df                 None             None   \n",
              "\n",
              "        default_profile default_profile_image  \n",
              "0                  None                  None  \n",
              "1                  None                  None  \n",
              "2                  None                  None  \n",
              "3                  None                  None  \n",
              "4                  None                  None  \n",
              "...                 ...                   ...  \n",
              "1058411            None                  None  \n",
              "1058412            None                  None  \n",
              "1058413            None                  None  \n",
              "1058414            None                  None  \n",
              "1058415            None                  None  \n",
              "\n",
              "[1058416 rows x 45 columns]"
            ],
            "text/html": [
              "\n",
              "  <div id=\"df-cc7fbf02-c5e6-442f-acec-33c7843aaf11\">\n",
              "    <div class=\"colab-df-container\">\n",
              "      <div>\n",
              "<style scoped>\n",
              "    .dataframe tbody tr th:only-of-type {\n",
              "        vertical-align: middle;\n",
              "    }\n",
              "\n",
              "    .dataframe tbody tr th {\n",
              "        vertical-align: top;\n",
              "    }\n",
              "\n",
              "    .dataframe thead th {\n",
              "        text-align: right;\n",
              "    }\n",
              "</style>\n",
              "<table border=\"1\" class=\"dataframe\">\n",
              "  <thead>\n",
              "    <tr style=\"text-align: right;\">\n",
              "      <th></th>\n",
              "      <th>created_at_1</th>\n",
              "      <th>user_id</th>\n",
              "      <th>user_name</th>\n",
              "      <th>user_screen_name</th>\n",
              "      <th>user_location</th>\n",
              "      <th>user_description</th>\n",
              "      <th>user_url</th>\n",
              "      <th>protected</th>\n",
              "      <th>followers_count</th>\n",
              "      <th>friends_count</th>\n",
              "      <th>...</th>\n",
              "      <th>notifications</th>\n",
              "      <th>translator_type</th>\n",
              "      <th>pinned_tweet_id</th>\n",
              "      <th>withheld</th>\n",
              "      <th>Bot</th>\n",
              "      <th>Source/label</th>\n",
              "      <th>has_extended_profile</th>\n",
              "      <th>profile_location</th>\n",
              "      <th>default_profile</th>\n",
              "      <th>default_profile_image</th>\n",
              "    </tr>\n",
              "  </thead>\n",
              "  <tbody>\n",
              "    <tr>\n",
              "      <th>0</th>\n",
              "      <td>2020-01-16 02:02:55+00:00</td>\n",
              "      <td>u1217628182611927040</td>\n",
              "      <td>Boaz Barak</td>\n",
              "      <td>boazbaraktcs</td>\n",
              "      <td>Cambridge, MA</td>\n",
              "      <td>Theoretical Computer Scientist. See also https...</td>\n",
              "      <td>https://t.co/BoMip9FF17</td>\n",
              "      <td>False</td>\n",
              "      <td>7316</td>\n",
              "      <td>215</td>\n",
              "      <td>...</td>\n",
              "      <td>To be populated</td>\n",
              "      <td>To be populated</td>\n",
              "      <td>None</td>\n",
              "      <td>None</td>\n",
              "      <td>0</td>\n",
              "      <td>TwiBot22</td>\n",
              "      <td>None</td>\n",
              "      <td>None</td>\n",
              "      <td>None</td>\n",
              "      <td>None</td>\n",
              "    </tr>\n",
              "    <tr>\n",
              "      <th>1</th>\n",
              "      <td>2014-07-02 17:56:46+00:00</td>\n",
              "      <td>u2664730894</td>\n",
              "      <td>olawale 💨</td>\n",
              "      <td>wale_io</td>\n",
              "      <td>🎈</td>\n",
              "      <td>creative _</td>\n",
              "      <td></td>\n",
              "      <td>False</td>\n",
              "      <td>123</td>\n",
              "      <td>1090</td>\n",
              "      <td>...</td>\n",
              "      <td>To be populated</td>\n",
              "      <td>To be populated</td>\n",
              "      <td>None</td>\n",
              "      <td>None</td>\n",
              "      <td>0</td>\n",
              "      <td>TwiBot22</td>\n",
              "      <td>None</td>\n",
              "      <td>None</td>\n",
              "      <td>None</td>\n",
              "      <td>None</td>\n",
              "    </tr>\n",
              "    <tr>\n",
              "      <th>2</th>\n",
              "      <td>2020-05-30 12:10:45+00:00</td>\n",
              "      <td>u1266703520205549568</td>\n",
              "      <td>panagiota_.b</td>\n",
              "      <td>b_panagiota</td>\n",
              "      <td>None</td>\n",
              "      <td>👽</td>\n",
              "      <td></td>\n",
              "      <td>False</td>\n",
              "      <td>3</td>\n",
              "      <td>62</td>\n",
              "      <td>...</td>\n",
              "      <td>To be populated</td>\n",
              "      <td>To be populated</td>\n",
              "      <td>None</td>\n",
              "      <td>None</td>\n",
              "      <td>0</td>\n",
              "      <td>TwiBot22</td>\n",
              "      <td>None</td>\n",
              "      <td>None</td>\n",
              "      <td>None</td>\n",
              "      <td>None</td>\n",
              "    </tr>\n",
              "    <tr>\n",
              "      <th>3</th>\n",
              "      <td>2019-01-26 13:52:49+00:00</td>\n",
              "      <td>u1089159225148882949</td>\n",
              "      <td>Jacqueline Hodges, MD MPH</td>\n",
              "      <td>jachodges_md</td>\n",
              "      <td>Charlottesville, VA</td>\n",
              "      <td>mama to maya. ABIM research pathway fellow @UV...</td>\n",
              "      <td></td>\n",
              "      <td>False</td>\n",
              "      <td>350</td>\n",
              "      <td>577</td>\n",
              "      <td>...</td>\n",
              "      <td>To be populated</td>\n",
              "      <td>To be populated</td>\n",
              "      <td>None</td>\n",
              "      <td>None</td>\n",
              "      <td>0</td>\n",
              "      <td>TwiBot22</td>\n",
              "      <td>None</td>\n",
              "      <td>None</td>\n",
              "      <td>None</td>\n",
              "      <td>None</td>\n",
              "    </tr>\n",
              "    <tr>\n",
              "      <th>4</th>\n",
              "      <td>2009-04-30 19:01:42+00:00</td>\n",
              "      <td>u36741729</td>\n",
              "      <td>Matthew Stubblefield</td>\n",
              "      <td>Matthew_Brody</td>\n",
              "      <td>United States</td>\n",
              "      <td>Father / SWT Alumnus / Longhorn Fan</td>\n",
              "      <td></td>\n",
              "      <td>True</td>\n",
              "      <td>240</td>\n",
              "      <td>297</td>\n",
              "      <td>...</td>\n",
              "      <td>To be populated</td>\n",
              "      <td>To be populated</td>\n",
              "      <td>None</td>\n",
              "      <td>None</td>\n",
              "      <td>1</td>\n",
              "      <td>TwiBot22</td>\n",
              "      <td>None</td>\n",
              "      <td>None</td>\n",
              "      <td>None</td>\n",
              "      <td>None</td>\n",
              "    </tr>\n",
              "    <tr>\n",
              "      <th>...</th>\n",
              "      <td>...</td>\n",
              "      <td>...</td>\n",
              "      <td>...</td>\n",
              "      <td>...</td>\n",
              "      <td>...</td>\n",
              "      <td>...</td>\n",
              "      <td>...</td>\n",
              "      <td>...</td>\n",
              "      <td>...</td>\n",
              "      <td>...</td>\n",
              "      <td>...</td>\n",
              "      <td>...</td>\n",
              "      <td>...</td>\n",
              "      <td>...</td>\n",
              "      <td>...</td>\n",
              "      <td>...</td>\n",
              "      <td>...</td>\n",
              "      <td>...</td>\n",
              "      <td>...</td>\n",
              "      <td>...</td>\n",
              "      <td>...</td>\n",
              "    </tr>\n",
              "    <tr>\n",
              "      <th>1058411</th>\n",
              "      <td>\"Fri Mar 02 22:13:07 +0000 2018\"</td>\n",
              "      <td>188645930</td>\n",
              "      <td>\"Bessie Gate\"</td>\n",
              "      <td>\"ikumi0926\"</td>\n",
              "      <td>\"Hawaii\"</td>\n",
              "      <td>To be populated</td>\n",
              "      <td>null</td>\n",
              "      <td>false</td>\n",
              "      <td>24</td>\n",
              "      <td>0</td>\n",
              "      <td>...</td>\n",
              "      <td>false</td>\n",
              "      <td>\"none\"</td>\n",
              "      <td>None</td>\n",
              "      <td>None</td>\n",
              "      <td>1</td>\n",
              "      <td>pronbots_2019_df</td>\n",
              "      <td>None</td>\n",
              "      <td>None</td>\n",
              "      <td>None</td>\n",
              "      <td>None</td>\n",
              "    </tr>\n",
              "    <tr>\n",
              "      <th>1058412</th>\n",
              "      <td>\"Sat Mar 10 04:52:16 +0000 2018\"</td>\n",
              "      <td>552236544</td>\n",
              "      <td>\"Paula Macey\"</td>\n",
              "      <td>\"MingzeLi123\"</td>\n",
              "      <td>\"\"</td>\n",
              "      <td>To be populated</td>\n",
              "      <td>null</td>\n",
              "      <td>false</td>\n",
              "      <td>7</td>\n",
              "      <td>0</td>\n",
              "      <td>...</td>\n",
              "      <td>false</td>\n",
              "      <td>\"none\"</td>\n",
              "      <td>None</td>\n",
              "      <td>None</td>\n",
              "      <td>1</td>\n",
              "      <td>pronbots_2019_df</td>\n",
              "      <td>None</td>\n",
              "      <td>None</td>\n",
              "      <td>None</td>\n",
              "      <td>None</td>\n",
              "    </tr>\n",
              "    <tr>\n",
              "      <th>1058413</th>\n",
              "      <td>\"Fri Mar 16 19:28:34 +0000 2018\"</td>\n",
              "      <td>1933105668</td>\n",
              "      <td>\"Wendy Palmer\"</td>\n",
              "      <td>\"HeyyJessica\"</td>\n",
              "      <td>\"\"</td>\n",
              "      <td>To be populated</td>\n",
              "      <td>null</td>\n",
              "      <td>false</td>\n",
              "      <td>74</td>\n",
              "      <td>0</td>\n",
              "      <td>...</td>\n",
              "      <td>false</td>\n",
              "      <td>\"none\"</td>\n",
              "      <td>None</td>\n",
              "      <td>None</td>\n",
              "      <td>1</td>\n",
              "      <td>pronbots_2019_df</td>\n",
              "      <td>None</td>\n",
              "      <td>None</td>\n",
              "      <td>None</td>\n",
              "      <td>None</td>\n",
              "    </tr>\n",
              "    <tr>\n",
              "      <th>1058414</th>\n",
              "      <td>\"Sat Mar 10 04:42:55 +0000 2018\"</td>\n",
              "      <td>3222769956</td>\n",
              "      <td>\"Irene Miln\"</td>\n",
              "      <td>\"Clown327426514\"</td>\n",
              "      <td>\"\"</td>\n",
              "      <td>To be populated</td>\n",
              "      <td>null</td>\n",
              "      <td>false</td>\n",
              "      <td>3</td>\n",
              "      <td>0</td>\n",
              "      <td>...</td>\n",
              "      <td>false</td>\n",
              "      <td>\"none\"</td>\n",
              "      <td>None</td>\n",
              "      <td>None</td>\n",
              "      <td>1</td>\n",
              "      <td>pronbots_2019_df</td>\n",
              "      <td>None</td>\n",
              "      <td>None</td>\n",
              "      <td>None</td>\n",
              "      <td>None</td>\n",
              "    </tr>\n",
              "    <tr>\n",
              "      <th>1058415</th>\n",
              "      <td>\"Sat Mar 10 05:55:45 +0000 2018\"</td>\n",
              "      <td>766645102148059136</td>\n",
              "      <td></td>\n",
              "      <td></td>\n",
              "      <td></td>\n",
              "      <td>To be populated</td>\n",
              "      <td></td>\n",
              "      <td></td>\n",
              "      <td></td>\n",
              "      <td></td>\n",
              "      <td>...</td>\n",
              "      <td></td>\n",
              "      <td>\"none\"</td>\n",
              "      <td>None</td>\n",
              "      <td>None</td>\n",
              "      <td>1</td>\n",
              "      <td>pronbots_2019_df</td>\n",
              "      <td>None</td>\n",
              "      <td>None</td>\n",
              "      <td>None</td>\n",
              "      <td>None</td>\n",
              "    </tr>\n",
              "  </tbody>\n",
              "</table>\n",
              "<p>1058416 rows × 45 columns</p>\n",
              "</div>\n",
              "      <button class=\"colab-df-convert\" onclick=\"convertToInteractive('df-cc7fbf02-c5e6-442f-acec-33c7843aaf11')\"\n",
              "              title=\"Convert this dataframe to an interactive table.\"\n",
              "              style=\"display:none;\">\n",
              "        \n",
              "  <svg xmlns=\"http://www.w3.org/2000/svg\" height=\"24px\"viewBox=\"0 0 24 24\"\n",
              "       width=\"24px\">\n",
              "    <path d=\"M0 0h24v24H0V0z\" fill=\"none\"/>\n",
              "    <path d=\"M18.56 5.44l.94 2.06.94-2.06 2.06-.94-2.06-.94-.94-2.06-.94 2.06-2.06.94zm-11 1L8.5 8.5l.94-2.06 2.06-.94-2.06-.94L8.5 2.5l-.94 2.06-2.06.94zm10 10l.94 2.06.94-2.06 2.06-.94-2.06-.94-.94-2.06-.94 2.06-2.06.94z\"/><path d=\"M17.41 7.96l-1.37-1.37c-.4-.4-.92-.59-1.43-.59-.52 0-1.04.2-1.43.59L10.3 9.45l-7.72 7.72c-.78.78-.78 2.05 0 2.83L4 21.41c.39.39.9.59 1.41.59.51 0 1.02-.2 1.41-.59l7.78-7.78 2.81-2.81c.8-.78.8-2.07 0-2.86zM5.41 20L4 18.59l7.72-7.72 1.47 1.35L5.41 20z\"/>\n",
              "  </svg>\n",
              "      </button>\n",
              "      \n",
              "  <style>\n",
              "    .colab-df-container {\n",
              "      display:flex;\n",
              "      flex-wrap:wrap;\n",
              "      gap: 12px;\n",
              "    }\n",
              "\n",
              "    .colab-df-convert {\n",
              "      background-color: #E8F0FE;\n",
              "      border: none;\n",
              "      border-radius: 50%;\n",
              "      cursor: pointer;\n",
              "      display: none;\n",
              "      fill: #1967D2;\n",
              "      height: 32px;\n",
              "      padding: 0 0 0 0;\n",
              "      width: 32px;\n",
              "    }\n",
              "\n",
              "    .colab-df-convert:hover {\n",
              "      background-color: #E2EBFA;\n",
              "      box-shadow: 0px 1px 2px rgba(60, 64, 67, 0.3), 0px 1px 3px 1px rgba(60, 64, 67, 0.15);\n",
              "      fill: #174EA6;\n",
              "    }\n",
              "\n",
              "    [theme=dark] .colab-df-convert {\n",
              "      background-color: #3B4455;\n",
              "      fill: #D2E3FC;\n",
              "    }\n",
              "\n",
              "    [theme=dark] .colab-df-convert:hover {\n",
              "      background-color: #434B5C;\n",
              "      box-shadow: 0px 1px 3px 1px rgba(0, 0, 0, 0.15);\n",
              "      filter: drop-shadow(0px 1px 2px rgba(0, 0, 0, 0.3));\n",
              "      fill: #FFFFFF;\n",
              "    }\n",
              "  </style>\n",
              "\n",
              "      <script>\n",
              "        const buttonEl =\n",
              "          document.querySelector('#df-cc7fbf02-c5e6-442f-acec-33c7843aaf11 button.colab-df-convert');\n",
              "        buttonEl.style.display =\n",
              "          google.colab.kernel.accessAllowed ? 'block' : 'none';\n",
              "\n",
              "        async function convertToInteractive(key) {\n",
              "          const element = document.querySelector('#df-cc7fbf02-c5e6-442f-acec-33c7843aaf11');\n",
              "          const dataTable =\n",
              "            await google.colab.kernel.invokeFunction('convertToInteractive',\n",
              "                                                     [key], {});\n",
              "          if (!dataTable) return;\n",
              "\n",
              "          const docLinkHtml = 'Like what you see? Visit the ' +\n",
              "            '<a target=\"_blank\" href=https://colab.research.google.com/notebooks/data_table.ipynb>data table notebook</a>'\n",
              "            + ' to learn more about interactive tables.';\n",
              "          element.innerHTML = '';\n",
              "          dataTable['output_type'] = 'display_data';\n",
              "          await google.colab.output.renderOutput(dataTable, element);\n",
              "          const docLink = document.createElement('div');\n",
              "          docLink.innerHTML = docLinkHtml;\n",
              "          element.appendChild(docLink);\n",
              "        }\n",
              "      </script>\n",
              "    </div>\n",
              "  </div>\n",
              "  "
            ]
          },
          "metadata": {},
          "execution_count": 62
        }
      ]
    },
    {
      "cell_type": "markdown",
      "metadata": {
        "id": "WmLp6T7qbmOt"
      },
      "source": [
        "## changing true/false to True/False, air quotes, and handling variations of null values"
      ]
    },
    {
      "cell_type": "code",
      "execution_count": null,
      "metadata": {
        "colab": {
          "base_uri": "https://localhost:8080/",
          "height": 835
        },
        "id": "_QK7X6iwbl9-",
        "outputId": "1e97f512-3beb-4121-d8fb-02fc18c1a4a8"
      },
      "outputs": [
        {
          "output_type": "stream",
          "name": "stderr",
          "text": [
            "100%|██████████| 45/45 [01:11<00:00,  1.59s/it]\n"
          ]
        },
        {
          "output_type": "execute_result",
          "data": {
            "text/plain": [
              "                           created_at_1              user_id  \\\n",
              "0                   2020-01-16 02:02:55  1217628182611927040   \n",
              "1                   2014-07-02 17:56:46           2664730894   \n",
              "2                   2020-05-30 12:10:45  1266703520205549568   \n",
              "3                   2019-01-26 13:52:49  1089159225148882949   \n",
              "4                   2009-04-30 19:01:42             36741729   \n",
              "...                                 ...                  ...   \n",
              "1058411  Fri Mar 02 22:13:07 +0000 2018            188645930   \n",
              "1058412  Sat Mar 10 04:52:16 +0000 2018            552236544   \n",
              "1058413  Fri Mar 16 19:28:34 +0000 2018           1933105668   \n",
              "1058414  Sat Mar 10 04:42:55 +0000 2018           3222769956   \n",
              "1058415  Sat Mar 10 05:55:45 +0000 2018   766645102148059136   \n",
              "\n",
              "                         user_name user_screen_name    user_location  \\\n",
              "0                       Boaz Barak     boazbaraktcs        Cambridge   \n",
              "1                        olawale 💨          wale_io                🎈   \n",
              "2                     panagiota_.b      b_panagiota             None   \n",
              "3        Jacqueline Hodges, MD MPH     jachodges_md  Charlottesville   \n",
              "4             Matthew Stubblefield    Matthew_Brody    United States   \n",
              "...                            ...              ...              ...   \n",
              "1058411                Bessie Gate        ikumi0926           Hawaii   \n",
              "1058412                Paula Macey      MingzeLi123              NaN   \n",
              "1058413               Wendy Palmer      HeyyJessica              NaN   \n",
              "1058414                 Irene Miln   Clown327426514              NaN   \n",
              "1058415                        NaN              NaN              NaN   \n",
              "\n",
              "                                          user_description  \\\n",
              "0        Theoretical Computer Scientist. See also https...   \n",
              "1                                               creative _   \n",
              "2                                                        👽   \n",
              "3        mama to maya. ABIM research pathway fellow @UV...   \n",
              "4                      Father / SWT Alumnus / Longhorn Fan   \n",
              "...                                                    ...   \n",
              "1058411                                                NaN   \n",
              "1058412                                                NaN   \n",
              "1058413                                                NaN   \n",
              "1058414                                                NaN   \n",
              "1058415                                                NaN   \n",
              "\n",
              "                        user_url protected followers_count friends_count  ...  \\\n",
              "0        https://t.co/BoMip9FF17     False            7316           215  ...   \n",
              "1                            NaN     False             123          1090  ...   \n",
              "2                            NaN     False               3            62  ...   \n",
              "3                            NaN     False             350           577  ...   \n",
              "4                            NaN      True             240           297  ...   \n",
              "...                          ...       ...             ...           ...  ...   \n",
              "1058411                      NaN     False              24             0  ...   \n",
              "1058412                      NaN     False               7             0  ...   \n",
              "1058413                      NaN     False              74             0  ...   \n",
              "1058414                      NaN     False               3             0  ...   \n",
              "1058415                      NaN       NaN             NaN           NaN  ...   \n",
              "\n",
              "        notifications translator_type pinned_tweet_id withheld Bot  \\\n",
              "0                 NaN             NaN             NaN     None   0   \n",
              "1                 NaN             NaN             NaN     None   0   \n",
              "2                 NaN             NaN             NaN     None   0   \n",
              "3                 NaN             NaN             NaN     None   0   \n",
              "4                 NaN             NaN             NaN     None   1   \n",
              "...               ...             ...             ...      ...  ..   \n",
              "1058411         False            none             NaN     None   1   \n",
              "1058412         False            none             NaN     None   1   \n",
              "1058413         False            none             NaN     None   1   \n",
              "1058414         False            none             NaN     None   1   \n",
              "1058415           NaN            none             NaN     None   1   \n",
              "\n",
              "             Source/label has_extended_profile profile_location  \\\n",
              "0                TwiBot22                 None             None   \n",
              "1                TwiBot22                 None             None   \n",
              "2                TwiBot22                 None             None   \n",
              "3                TwiBot22                 None             None   \n",
              "4                TwiBot22                 None             None   \n",
              "...                   ...                  ...              ...   \n",
              "1058411  pronbots_2019_df                 None             None   \n",
              "1058412  pronbots_2019_df                 None             None   \n",
              "1058413  pronbots_2019_df                 None             None   \n",
              "1058414  pronbots_2019_df                 None             None   \n",
              "1058415  pronbots_2019_df                 None             None   \n",
              "\n",
              "        default_profile default_profile_image  \n",
              "0                  None                  None  \n",
              "1                  None                  None  \n",
              "2                  None                  None  \n",
              "3                  None                  None  \n",
              "4                  None                  None  \n",
              "...                 ...                   ...  \n",
              "1058411            None                  None  \n",
              "1058412            None                  None  \n",
              "1058413            None                  None  \n",
              "1058414            None                  None  \n",
              "1058415            None                  None  \n",
              "\n",
              "[1058416 rows x 45 columns]"
            ],
            "text/html": [
              "\n",
              "  <div id=\"df-5a86bf1a-a4c1-432e-971a-d81b5ae96825\">\n",
              "    <div class=\"colab-df-container\">\n",
              "      <div>\n",
              "<style scoped>\n",
              "    .dataframe tbody tr th:only-of-type {\n",
              "        vertical-align: middle;\n",
              "    }\n",
              "\n",
              "    .dataframe tbody tr th {\n",
              "        vertical-align: top;\n",
              "    }\n",
              "\n",
              "    .dataframe thead th {\n",
              "        text-align: right;\n",
              "    }\n",
              "</style>\n",
              "<table border=\"1\" class=\"dataframe\">\n",
              "  <thead>\n",
              "    <tr style=\"text-align: right;\">\n",
              "      <th></th>\n",
              "      <th>created_at_1</th>\n",
              "      <th>user_id</th>\n",
              "      <th>user_name</th>\n",
              "      <th>user_screen_name</th>\n",
              "      <th>user_location</th>\n",
              "      <th>user_description</th>\n",
              "      <th>user_url</th>\n",
              "      <th>protected</th>\n",
              "      <th>followers_count</th>\n",
              "      <th>friends_count</th>\n",
              "      <th>...</th>\n",
              "      <th>notifications</th>\n",
              "      <th>translator_type</th>\n",
              "      <th>pinned_tweet_id</th>\n",
              "      <th>withheld</th>\n",
              "      <th>Bot</th>\n",
              "      <th>Source/label</th>\n",
              "      <th>has_extended_profile</th>\n",
              "      <th>profile_location</th>\n",
              "      <th>default_profile</th>\n",
              "      <th>default_profile_image</th>\n",
              "    </tr>\n",
              "  </thead>\n",
              "  <tbody>\n",
              "    <tr>\n",
              "      <th>0</th>\n",
              "      <td>2020-01-16 02:02:55</td>\n",
              "      <td>1217628182611927040</td>\n",
              "      <td>Boaz Barak</td>\n",
              "      <td>boazbaraktcs</td>\n",
              "      <td>Cambridge</td>\n",
              "      <td>Theoretical Computer Scientist. See also https...</td>\n",
              "      <td>https://t.co/BoMip9FF17</td>\n",
              "      <td>False</td>\n",
              "      <td>7316</td>\n",
              "      <td>215</td>\n",
              "      <td>...</td>\n",
              "      <td>NaN</td>\n",
              "      <td>NaN</td>\n",
              "      <td>NaN</td>\n",
              "      <td>None</td>\n",
              "      <td>0</td>\n",
              "      <td>TwiBot22</td>\n",
              "      <td>None</td>\n",
              "      <td>None</td>\n",
              "      <td>None</td>\n",
              "      <td>None</td>\n",
              "    </tr>\n",
              "    <tr>\n",
              "      <th>1</th>\n",
              "      <td>2014-07-02 17:56:46</td>\n",
              "      <td>2664730894</td>\n",
              "      <td>olawale 💨</td>\n",
              "      <td>wale_io</td>\n",
              "      <td>🎈</td>\n",
              "      <td>creative _</td>\n",
              "      <td>NaN</td>\n",
              "      <td>False</td>\n",
              "      <td>123</td>\n",
              "      <td>1090</td>\n",
              "      <td>...</td>\n",
              "      <td>NaN</td>\n",
              "      <td>NaN</td>\n",
              "      <td>NaN</td>\n",
              "      <td>None</td>\n",
              "      <td>0</td>\n",
              "      <td>TwiBot22</td>\n",
              "      <td>None</td>\n",
              "      <td>None</td>\n",
              "      <td>None</td>\n",
              "      <td>None</td>\n",
              "    </tr>\n",
              "    <tr>\n",
              "      <th>2</th>\n",
              "      <td>2020-05-30 12:10:45</td>\n",
              "      <td>1266703520205549568</td>\n",
              "      <td>panagiota_.b</td>\n",
              "      <td>b_panagiota</td>\n",
              "      <td>None</td>\n",
              "      <td>👽</td>\n",
              "      <td>NaN</td>\n",
              "      <td>False</td>\n",
              "      <td>3</td>\n",
              "      <td>62</td>\n",
              "      <td>...</td>\n",
              "      <td>NaN</td>\n",
              "      <td>NaN</td>\n",
              "      <td>NaN</td>\n",
              "      <td>None</td>\n",
              "      <td>0</td>\n",
              "      <td>TwiBot22</td>\n",
              "      <td>None</td>\n",
              "      <td>None</td>\n",
              "      <td>None</td>\n",
              "      <td>None</td>\n",
              "    </tr>\n",
              "    <tr>\n",
              "      <th>3</th>\n",
              "      <td>2019-01-26 13:52:49</td>\n",
              "      <td>1089159225148882949</td>\n",
              "      <td>Jacqueline Hodges, MD MPH</td>\n",
              "      <td>jachodges_md</td>\n",
              "      <td>Charlottesville</td>\n",
              "      <td>mama to maya. ABIM research pathway fellow @UV...</td>\n",
              "      <td>NaN</td>\n",
              "      <td>False</td>\n",
              "      <td>350</td>\n",
              "      <td>577</td>\n",
              "      <td>...</td>\n",
              "      <td>NaN</td>\n",
              "      <td>NaN</td>\n",
              "      <td>NaN</td>\n",
              "      <td>None</td>\n",
              "      <td>0</td>\n",
              "      <td>TwiBot22</td>\n",
              "      <td>None</td>\n",
              "      <td>None</td>\n",
              "      <td>None</td>\n",
              "      <td>None</td>\n",
              "    </tr>\n",
              "    <tr>\n",
              "      <th>4</th>\n",
              "      <td>2009-04-30 19:01:42</td>\n",
              "      <td>36741729</td>\n",
              "      <td>Matthew Stubblefield</td>\n",
              "      <td>Matthew_Brody</td>\n",
              "      <td>United States</td>\n",
              "      <td>Father / SWT Alumnus / Longhorn Fan</td>\n",
              "      <td>NaN</td>\n",
              "      <td>True</td>\n",
              "      <td>240</td>\n",
              "      <td>297</td>\n",
              "      <td>...</td>\n",
              "      <td>NaN</td>\n",
              "      <td>NaN</td>\n",
              "      <td>NaN</td>\n",
              "      <td>None</td>\n",
              "      <td>1</td>\n",
              "      <td>TwiBot22</td>\n",
              "      <td>None</td>\n",
              "      <td>None</td>\n",
              "      <td>None</td>\n",
              "      <td>None</td>\n",
              "    </tr>\n",
              "    <tr>\n",
              "      <th>...</th>\n",
              "      <td>...</td>\n",
              "      <td>...</td>\n",
              "      <td>...</td>\n",
              "      <td>...</td>\n",
              "      <td>...</td>\n",
              "      <td>...</td>\n",
              "      <td>...</td>\n",
              "      <td>...</td>\n",
              "      <td>...</td>\n",
              "      <td>...</td>\n",
              "      <td>...</td>\n",
              "      <td>...</td>\n",
              "      <td>...</td>\n",
              "      <td>...</td>\n",
              "      <td>...</td>\n",
              "      <td>...</td>\n",
              "      <td>...</td>\n",
              "      <td>...</td>\n",
              "      <td>...</td>\n",
              "      <td>...</td>\n",
              "      <td>...</td>\n",
              "    </tr>\n",
              "    <tr>\n",
              "      <th>1058411</th>\n",
              "      <td>Fri Mar 02 22:13:07 +0000 2018</td>\n",
              "      <td>188645930</td>\n",
              "      <td>Bessie Gate</td>\n",
              "      <td>ikumi0926</td>\n",
              "      <td>Hawaii</td>\n",
              "      <td>NaN</td>\n",
              "      <td>NaN</td>\n",
              "      <td>False</td>\n",
              "      <td>24</td>\n",
              "      <td>0</td>\n",
              "      <td>...</td>\n",
              "      <td>False</td>\n",
              "      <td>none</td>\n",
              "      <td>NaN</td>\n",
              "      <td>None</td>\n",
              "      <td>1</td>\n",
              "      <td>pronbots_2019_df</td>\n",
              "      <td>None</td>\n",
              "      <td>None</td>\n",
              "      <td>None</td>\n",
              "      <td>None</td>\n",
              "    </tr>\n",
              "    <tr>\n",
              "      <th>1058412</th>\n",
              "      <td>Sat Mar 10 04:52:16 +0000 2018</td>\n",
              "      <td>552236544</td>\n",
              "      <td>Paula Macey</td>\n",
              "      <td>MingzeLi123</td>\n",
              "      <td>NaN</td>\n",
              "      <td>NaN</td>\n",
              "      <td>NaN</td>\n",
              "      <td>False</td>\n",
              "      <td>7</td>\n",
              "      <td>0</td>\n",
              "      <td>...</td>\n",
              "      <td>False</td>\n",
              "      <td>none</td>\n",
              "      <td>NaN</td>\n",
              "      <td>None</td>\n",
              "      <td>1</td>\n",
              "      <td>pronbots_2019_df</td>\n",
              "      <td>None</td>\n",
              "      <td>None</td>\n",
              "      <td>None</td>\n",
              "      <td>None</td>\n",
              "    </tr>\n",
              "    <tr>\n",
              "      <th>1058413</th>\n",
              "      <td>Fri Mar 16 19:28:34 +0000 2018</td>\n",
              "      <td>1933105668</td>\n",
              "      <td>Wendy Palmer</td>\n",
              "      <td>HeyyJessica</td>\n",
              "      <td>NaN</td>\n",
              "      <td>NaN</td>\n",
              "      <td>NaN</td>\n",
              "      <td>False</td>\n",
              "      <td>74</td>\n",
              "      <td>0</td>\n",
              "      <td>...</td>\n",
              "      <td>False</td>\n",
              "      <td>none</td>\n",
              "      <td>NaN</td>\n",
              "      <td>None</td>\n",
              "      <td>1</td>\n",
              "      <td>pronbots_2019_df</td>\n",
              "      <td>None</td>\n",
              "      <td>None</td>\n",
              "      <td>None</td>\n",
              "      <td>None</td>\n",
              "    </tr>\n",
              "    <tr>\n",
              "      <th>1058414</th>\n",
              "      <td>Sat Mar 10 04:42:55 +0000 2018</td>\n",
              "      <td>3222769956</td>\n",
              "      <td>Irene Miln</td>\n",
              "      <td>Clown327426514</td>\n",
              "      <td>NaN</td>\n",
              "      <td>NaN</td>\n",
              "      <td>NaN</td>\n",
              "      <td>False</td>\n",
              "      <td>3</td>\n",
              "      <td>0</td>\n",
              "      <td>...</td>\n",
              "      <td>False</td>\n",
              "      <td>none</td>\n",
              "      <td>NaN</td>\n",
              "      <td>None</td>\n",
              "      <td>1</td>\n",
              "      <td>pronbots_2019_df</td>\n",
              "      <td>None</td>\n",
              "      <td>None</td>\n",
              "      <td>None</td>\n",
              "      <td>None</td>\n",
              "    </tr>\n",
              "    <tr>\n",
              "      <th>1058415</th>\n",
              "      <td>Sat Mar 10 05:55:45 +0000 2018</td>\n",
              "      <td>766645102148059136</td>\n",
              "      <td>NaN</td>\n",
              "      <td>NaN</td>\n",
              "      <td>NaN</td>\n",
              "      <td>NaN</td>\n",
              "      <td>NaN</td>\n",
              "      <td>NaN</td>\n",
              "      <td>NaN</td>\n",
              "      <td>NaN</td>\n",
              "      <td>...</td>\n",
              "      <td>NaN</td>\n",
              "      <td>none</td>\n",
              "      <td>NaN</td>\n",
              "      <td>None</td>\n",
              "      <td>1</td>\n",
              "      <td>pronbots_2019_df</td>\n",
              "      <td>None</td>\n",
              "      <td>None</td>\n",
              "      <td>None</td>\n",
              "      <td>None</td>\n",
              "    </tr>\n",
              "  </tbody>\n",
              "</table>\n",
              "<p>1058416 rows × 45 columns</p>\n",
              "</div>\n",
              "      <button class=\"colab-df-convert\" onclick=\"convertToInteractive('df-5a86bf1a-a4c1-432e-971a-d81b5ae96825')\"\n",
              "              title=\"Convert this dataframe to an interactive table.\"\n",
              "              style=\"display:none;\">\n",
              "        \n",
              "  <svg xmlns=\"http://www.w3.org/2000/svg\" height=\"24px\"viewBox=\"0 0 24 24\"\n",
              "       width=\"24px\">\n",
              "    <path d=\"M0 0h24v24H0V0z\" fill=\"none\"/>\n",
              "    <path d=\"M18.56 5.44l.94 2.06.94-2.06 2.06-.94-2.06-.94-.94-2.06-.94 2.06-2.06.94zm-11 1L8.5 8.5l.94-2.06 2.06-.94-2.06-.94L8.5 2.5l-.94 2.06-2.06.94zm10 10l.94 2.06.94-2.06 2.06-.94-2.06-.94-.94-2.06-.94 2.06-2.06.94z\"/><path d=\"M17.41 7.96l-1.37-1.37c-.4-.4-.92-.59-1.43-.59-.52 0-1.04.2-1.43.59L10.3 9.45l-7.72 7.72c-.78.78-.78 2.05 0 2.83L4 21.41c.39.39.9.59 1.41.59.51 0 1.02-.2 1.41-.59l7.78-7.78 2.81-2.81c.8-.78.8-2.07 0-2.86zM5.41 20L4 18.59l7.72-7.72 1.47 1.35L5.41 20z\"/>\n",
              "  </svg>\n",
              "      </button>\n",
              "      \n",
              "  <style>\n",
              "    .colab-df-container {\n",
              "      display:flex;\n",
              "      flex-wrap:wrap;\n",
              "      gap: 12px;\n",
              "    }\n",
              "\n",
              "    .colab-df-convert {\n",
              "      background-color: #E8F0FE;\n",
              "      border: none;\n",
              "      border-radius: 50%;\n",
              "      cursor: pointer;\n",
              "      display: none;\n",
              "      fill: #1967D2;\n",
              "      height: 32px;\n",
              "      padding: 0 0 0 0;\n",
              "      width: 32px;\n",
              "    }\n",
              "\n",
              "    .colab-df-convert:hover {\n",
              "      background-color: #E2EBFA;\n",
              "      box-shadow: 0px 1px 2px rgba(60, 64, 67, 0.3), 0px 1px 3px 1px rgba(60, 64, 67, 0.15);\n",
              "      fill: #174EA6;\n",
              "    }\n",
              "\n",
              "    [theme=dark] .colab-df-convert {\n",
              "      background-color: #3B4455;\n",
              "      fill: #D2E3FC;\n",
              "    }\n",
              "\n",
              "    [theme=dark] .colab-df-convert:hover {\n",
              "      background-color: #434B5C;\n",
              "      box-shadow: 0px 1px 3px 1px rgba(0, 0, 0, 0.15);\n",
              "      filter: drop-shadow(0px 1px 2px rgba(0, 0, 0, 0.3));\n",
              "      fill: #FFFFFF;\n",
              "    }\n",
              "  </style>\n",
              "\n",
              "      <script>\n",
              "        const buttonEl =\n",
              "          document.querySelector('#df-5a86bf1a-a4c1-432e-971a-d81b5ae96825 button.colab-df-convert');\n",
              "        buttonEl.style.display =\n",
              "          google.colab.kernel.accessAllowed ? 'block' : 'none';\n",
              "\n",
              "        async function convertToInteractive(key) {\n",
              "          const element = document.querySelector('#df-5a86bf1a-a4c1-432e-971a-d81b5ae96825');\n",
              "          const dataTable =\n",
              "            await google.colab.kernel.invokeFunction('convertToInteractive',\n",
              "                                                     [key], {});\n",
              "          if (!dataTable) return;\n",
              "\n",
              "          const docLinkHtml = 'Like what you see? Visit the ' +\n",
              "            '<a target=\"_blank\" href=https://colab.research.google.com/notebooks/data_table.ipynb>data table notebook</a>'\n",
              "            + ' to learn more about interactive tables.';\n",
              "          element.innerHTML = '';\n",
              "          dataTable['output_type'] = 'display_data';\n",
              "          await google.colab.output.renderOutput(dataTable, element);\n",
              "          const docLink = document.createElement('div');\n",
              "          docLink.innerHTML = docLinkHtml;\n",
              "          element.appendChild(docLink);\n",
              "        }\n",
              "      </script>\n",
              "    </div>\n",
              "  </div>\n",
              "  "
            ]
          },
          "metadata": {},
          "execution_count": 65
        }
      ],
      "source": [
        "\n",
        "\"\"\"\n",
        "remove_bol_variants:\n",
        "  Casting strings that represent boolean values to their corresponding boolean values\n",
        "\n",
        "remove_na_variants:\n",
        "  Variants of missing data are handled and casted to np.nan\n",
        "\n",
        "remove_air_qoutes:\n",
        "  Strings starting and ending with \\\" are handled\n",
        "\n",
        "df.user_id = df.user_id.apply(lambda x: int(x[1:]) if type(x) == str else x)\n",
        "  Some user_ids have u before the id, removing the u and casting to int in these cases\n",
        "\"\"\"\n",
        "\n",
        "\n",
        "na_lst = [\"\", '\"\"', \"To be populated\", \"none\", \"null\", 'None ']\n",
        "for col in tqdm(df.columns.tolist()):\n",
        "\n",
        "  #Removing boolean variants - excluding user_name, user_location, and user_description as this is text data that will be embedded\n",
        "  if col not in ['user_name', 'user_location', 'user_description']:\n",
        "    df[col] = df[col].map(lambda x: x if type(x) != str else False if x.lower().strip() == \"false\" else True if x.lower().strip() == \"true\" else x)\n",
        "\n",
        "  #Removing na variants\n",
        "  df[col] = df[col].map(lambda x: x if type(x) != str else np.nan if x in na_lst else x)\n",
        "  \n",
        "  #Removing air qoutes from the string columns\n",
        "  df[col] = df[col].map(lambda x: x if type(x) != str else x.lstrip('\"').rstrip('\"'))\n",
        "  \n",
        "  \n",
        "#Some user_ids have u before the id, removing the u and casting to int in these cases\n",
        "df.user_id = df.user_id.apply(lambda x: int(x[1:]) if type(x) == str else x)\n",
        "\n",
        "df"
      ]
    },
    {
      "cell_type": "markdown",
      "metadata": {
        "id": "AVV0-39VjfLL"
      },
      "source": [
        "## Trying to identify location - using GeoText"
      ]
    },
    {
      "cell_type": "code",
      "execution_count": null,
      "metadata": {
        "colab": {
          "base_uri": "https://localhost:8080/",
          "height": 817
        },
        "id": "VSm20dOKjyoY",
        "outputId": "03a13077-de01-453f-e6ea-59280e77fee4"
      },
      "outputs": [
        {
          "output_type": "execute_result",
          "data": {
            "text/plain": [
              "                             created_at_1               user_id  \\\n",
              "0               2020-01-16 02:02:55+00:00  u1217628182611927040   \n",
              "1               2014-07-02 17:56:46+00:00           u2664730894   \n",
              "2               2020-05-30 12:10:45+00:00  u1266703520205549568   \n",
              "3               2019-01-26 13:52:49+00:00  u1089159225148882949   \n",
              "4               2009-04-30 19:01:42+00:00             u36741729   \n",
              "...                                   ...                   ...   \n",
              "1058411  \"Fri Mar 02 22:13:07 +0000 2018\"             188645930   \n",
              "1058412  \"Sat Mar 10 04:52:16 +0000 2018\"             552236544   \n",
              "1058413  \"Fri Mar 16 19:28:34 +0000 2018\"            1933105668   \n",
              "1058414  \"Sat Mar 10 04:42:55 +0000 2018\"            3222769956   \n",
              "1058415  \"Sat Mar 10 05:55:45 +0000 2018\"    766645102148059136   \n",
              "\n",
              "                         user_name  user_screen_name    user_location  \\\n",
              "0                       Boaz Barak      boazbaraktcs        Cambridge   \n",
              "1                        olawale 💨           wale_io                🎈   \n",
              "2                     panagiota_.b       b_panagiota             None   \n",
              "3        Jacqueline Hodges, MD MPH      jachodges_md  Charlottesville   \n",
              "4             Matthew Stubblefield     Matthew_Brody    United States   \n",
              "...                            ...               ...              ...   \n",
              "1058411              \"Bessie Gate\"       \"ikumi0926\"         \"Hawaii\"   \n",
              "1058412              \"Paula Macey\"     \"MingzeLi123\"               \"\"   \n",
              "1058413             \"Wendy Palmer\"     \"HeyyJessica\"               \"\"   \n",
              "1058414               \"Irene Miln\"  \"Clown327426514\"               \"\"   \n",
              "1058415                                                                 \n",
              "\n",
              "                                          user_description  \\\n",
              "0        Theoretical Computer Scientist. See also https...   \n",
              "1                                               creative _   \n",
              "2                                                        👽   \n",
              "3        mama to maya. ABIM research pathway fellow @UV...   \n",
              "4                      Father / SWT Alumnus / Longhorn Fan   \n",
              "...                                                    ...   \n",
              "1058411                                    To be populated   \n",
              "1058412                                    To be populated   \n",
              "1058413                                    To be populated   \n",
              "1058414                                    To be populated   \n",
              "1058415                                    To be populated   \n",
              "\n",
              "                        user_url protected followers_count friends_count  ...  \\\n",
              "0        https://t.co/BoMip9FF17     False            7316           215  ...   \n",
              "1                                    False             123          1090  ...   \n",
              "2                                    False               3            62  ...   \n",
              "3                                    False             350           577  ...   \n",
              "4                                     True             240           297  ...   \n",
              "...                          ...       ...             ...           ...  ...   \n",
              "1058411                     null     false              24             0  ...   \n",
              "1058412                     null     false               7             0  ...   \n",
              "1058413                     null     false              74             0  ...   \n",
              "1058414                     null     false               3             0  ...   \n",
              "1058415                                                                   ...   \n",
              "\n",
              "           notifications  translator_type pinned_tweet_id withheld Bot  \\\n",
              "0        To be populated  To be populated            None     None   0   \n",
              "1        To be populated  To be populated            None     None   0   \n",
              "2        To be populated  To be populated            None     None   0   \n",
              "3        To be populated  To be populated            None     None   0   \n",
              "4        To be populated  To be populated            None     None   1   \n",
              "...                  ...              ...             ...      ...  ..   \n",
              "1058411            false           \"none\"            None     None   1   \n",
              "1058412            false           \"none\"            None     None   1   \n",
              "1058413            false           \"none\"            None     None   1   \n",
              "1058414            false           \"none\"            None     None   1   \n",
              "1058415                            \"none\"            None     None   1   \n",
              "\n",
              "             Source/label has_extended_profile profile_location  \\\n",
              "0                TwiBot22                 None             None   \n",
              "1                TwiBot22                 None             None   \n",
              "2                TwiBot22                 None             None   \n",
              "3                TwiBot22                 None             None   \n",
              "4                TwiBot22                 None             None   \n",
              "...                   ...                  ...              ...   \n",
              "1058411  pronbots_2019_df                 None             None   \n",
              "1058412  pronbots_2019_df                 None             None   \n",
              "1058413  pronbots_2019_df                 None             None   \n",
              "1058414  pronbots_2019_df                 None             None   \n",
              "1058415  pronbots_2019_df                 None             None   \n",
              "\n",
              "        default_profile default_profile_image  \n",
              "0                  None                  None  \n",
              "1                  None                  None  \n",
              "2                  None                  None  \n",
              "3                  None                  None  \n",
              "4                  None                  None  \n",
              "...                 ...                   ...  \n",
              "1058411            None                  None  \n",
              "1058412            None                  None  \n",
              "1058413            None                  None  \n",
              "1058414            None                  None  \n",
              "1058415            None                  None  \n",
              "\n",
              "[1058416 rows x 45 columns]"
            ],
            "text/html": [
              "\n",
              "  <div id=\"df-d9f07d30-dcb2-492e-93c3-19cf46910b67\">\n",
              "    <div class=\"colab-df-container\">\n",
              "      <div>\n",
              "<style scoped>\n",
              "    .dataframe tbody tr th:only-of-type {\n",
              "        vertical-align: middle;\n",
              "    }\n",
              "\n",
              "    .dataframe tbody tr th {\n",
              "        vertical-align: top;\n",
              "    }\n",
              "\n",
              "    .dataframe thead th {\n",
              "        text-align: right;\n",
              "    }\n",
              "</style>\n",
              "<table border=\"1\" class=\"dataframe\">\n",
              "  <thead>\n",
              "    <tr style=\"text-align: right;\">\n",
              "      <th></th>\n",
              "      <th>created_at_1</th>\n",
              "      <th>user_id</th>\n",
              "      <th>user_name</th>\n",
              "      <th>user_screen_name</th>\n",
              "      <th>user_location</th>\n",
              "      <th>user_description</th>\n",
              "      <th>user_url</th>\n",
              "      <th>protected</th>\n",
              "      <th>followers_count</th>\n",
              "      <th>friends_count</th>\n",
              "      <th>...</th>\n",
              "      <th>notifications</th>\n",
              "      <th>translator_type</th>\n",
              "      <th>pinned_tweet_id</th>\n",
              "      <th>withheld</th>\n",
              "      <th>Bot</th>\n",
              "      <th>Source/label</th>\n",
              "      <th>has_extended_profile</th>\n",
              "      <th>profile_location</th>\n",
              "      <th>default_profile</th>\n",
              "      <th>default_profile_image</th>\n",
              "    </tr>\n",
              "  </thead>\n",
              "  <tbody>\n",
              "    <tr>\n",
              "      <th>0</th>\n",
              "      <td>2020-01-16 02:02:55+00:00</td>\n",
              "      <td>u1217628182611927040</td>\n",
              "      <td>Boaz Barak</td>\n",
              "      <td>boazbaraktcs</td>\n",
              "      <td>Cambridge</td>\n",
              "      <td>Theoretical Computer Scientist. See also https...</td>\n",
              "      <td>https://t.co/BoMip9FF17</td>\n",
              "      <td>False</td>\n",
              "      <td>7316</td>\n",
              "      <td>215</td>\n",
              "      <td>...</td>\n",
              "      <td>To be populated</td>\n",
              "      <td>To be populated</td>\n",
              "      <td>None</td>\n",
              "      <td>None</td>\n",
              "      <td>0</td>\n",
              "      <td>TwiBot22</td>\n",
              "      <td>None</td>\n",
              "      <td>None</td>\n",
              "      <td>None</td>\n",
              "      <td>None</td>\n",
              "    </tr>\n",
              "    <tr>\n",
              "      <th>1</th>\n",
              "      <td>2014-07-02 17:56:46+00:00</td>\n",
              "      <td>u2664730894</td>\n",
              "      <td>olawale 💨</td>\n",
              "      <td>wale_io</td>\n",
              "      <td>🎈</td>\n",
              "      <td>creative _</td>\n",
              "      <td></td>\n",
              "      <td>False</td>\n",
              "      <td>123</td>\n",
              "      <td>1090</td>\n",
              "      <td>...</td>\n",
              "      <td>To be populated</td>\n",
              "      <td>To be populated</td>\n",
              "      <td>None</td>\n",
              "      <td>None</td>\n",
              "      <td>0</td>\n",
              "      <td>TwiBot22</td>\n",
              "      <td>None</td>\n",
              "      <td>None</td>\n",
              "      <td>None</td>\n",
              "      <td>None</td>\n",
              "    </tr>\n",
              "    <tr>\n",
              "      <th>2</th>\n",
              "      <td>2020-05-30 12:10:45+00:00</td>\n",
              "      <td>u1266703520205549568</td>\n",
              "      <td>panagiota_.b</td>\n",
              "      <td>b_panagiota</td>\n",
              "      <td>None</td>\n",
              "      <td>👽</td>\n",
              "      <td></td>\n",
              "      <td>False</td>\n",
              "      <td>3</td>\n",
              "      <td>62</td>\n",
              "      <td>...</td>\n",
              "      <td>To be populated</td>\n",
              "      <td>To be populated</td>\n",
              "      <td>None</td>\n",
              "      <td>None</td>\n",
              "      <td>0</td>\n",
              "      <td>TwiBot22</td>\n",
              "      <td>None</td>\n",
              "      <td>None</td>\n",
              "      <td>None</td>\n",
              "      <td>None</td>\n",
              "    </tr>\n",
              "    <tr>\n",
              "      <th>3</th>\n",
              "      <td>2019-01-26 13:52:49+00:00</td>\n",
              "      <td>u1089159225148882949</td>\n",
              "      <td>Jacqueline Hodges, MD MPH</td>\n",
              "      <td>jachodges_md</td>\n",
              "      <td>Charlottesville</td>\n",
              "      <td>mama to maya. ABIM research pathway fellow @UV...</td>\n",
              "      <td></td>\n",
              "      <td>False</td>\n",
              "      <td>350</td>\n",
              "      <td>577</td>\n",
              "      <td>...</td>\n",
              "      <td>To be populated</td>\n",
              "      <td>To be populated</td>\n",
              "      <td>None</td>\n",
              "      <td>None</td>\n",
              "      <td>0</td>\n",
              "      <td>TwiBot22</td>\n",
              "      <td>None</td>\n",
              "      <td>None</td>\n",
              "      <td>None</td>\n",
              "      <td>None</td>\n",
              "    </tr>\n",
              "    <tr>\n",
              "      <th>4</th>\n",
              "      <td>2009-04-30 19:01:42+00:00</td>\n",
              "      <td>u36741729</td>\n",
              "      <td>Matthew Stubblefield</td>\n",
              "      <td>Matthew_Brody</td>\n",
              "      <td>United States</td>\n",
              "      <td>Father / SWT Alumnus / Longhorn Fan</td>\n",
              "      <td></td>\n",
              "      <td>True</td>\n",
              "      <td>240</td>\n",
              "      <td>297</td>\n",
              "      <td>...</td>\n",
              "      <td>To be populated</td>\n",
              "      <td>To be populated</td>\n",
              "      <td>None</td>\n",
              "      <td>None</td>\n",
              "      <td>1</td>\n",
              "      <td>TwiBot22</td>\n",
              "      <td>None</td>\n",
              "      <td>None</td>\n",
              "      <td>None</td>\n",
              "      <td>None</td>\n",
              "    </tr>\n",
              "    <tr>\n",
              "      <th>...</th>\n",
              "      <td>...</td>\n",
              "      <td>...</td>\n",
              "      <td>...</td>\n",
              "      <td>...</td>\n",
              "      <td>...</td>\n",
              "      <td>...</td>\n",
              "      <td>...</td>\n",
              "      <td>...</td>\n",
              "      <td>...</td>\n",
              "      <td>...</td>\n",
              "      <td>...</td>\n",
              "      <td>...</td>\n",
              "      <td>...</td>\n",
              "      <td>...</td>\n",
              "      <td>...</td>\n",
              "      <td>...</td>\n",
              "      <td>...</td>\n",
              "      <td>...</td>\n",
              "      <td>...</td>\n",
              "      <td>...</td>\n",
              "      <td>...</td>\n",
              "    </tr>\n",
              "    <tr>\n",
              "      <th>1058411</th>\n",
              "      <td>\"Fri Mar 02 22:13:07 +0000 2018\"</td>\n",
              "      <td>188645930</td>\n",
              "      <td>\"Bessie Gate\"</td>\n",
              "      <td>\"ikumi0926\"</td>\n",
              "      <td>\"Hawaii\"</td>\n",
              "      <td>To be populated</td>\n",
              "      <td>null</td>\n",
              "      <td>false</td>\n",
              "      <td>24</td>\n",
              "      <td>0</td>\n",
              "      <td>...</td>\n",
              "      <td>false</td>\n",
              "      <td>\"none\"</td>\n",
              "      <td>None</td>\n",
              "      <td>None</td>\n",
              "      <td>1</td>\n",
              "      <td>pronbots_2019_df</td>\n",
              "      <td>None</td>\n",
              "      <td>None</td>\n",
              "      <td>None</td>\n",
              "      <td>None</td>\n",
              "    </tr>\n",
              "    <tr>\n",
              "      <th>1058412</th>\n",
              "      <td>\"Sat Mar 10 04:52:16 +0000 2018\"</td>\n",
              "      <td>552236544</td>\n",
              "      <td>\"Paula Macey\"</td>\n",
              "      <td>\"MingzeLi123\"</td>\n",
              "      <td>\"\"</td>\n",
              "      <td>To be populated</td>\n",
              "      <td>null</td>\n",
              "      <td>false</td>\n",
              "      <td>7</td>\n",
              "      <td>0</td>\n",
              "      <td>...</td>\n",
              "      <td>false</td>\n",
              "      <td>\"none\"</td>\n",
              "      <td>None</td>\n",
              "      <td>None</td>\n",
              "      <td>1</td>\n",
              "      <td>pronbots_2019_df</td>\n",
              "      <td>None</td>\n",
              "      <td>None</td>\n",
              "      <td>None</td>\n",
              "      <td>None</td>\n",
              "    </tr>\n",
              "    <tr>\n",
              "      <th>1058413</th>\n",
              "      <td>\"Fri Mar 16 19:28:34 +0000 2018\"</td>\n",
              "      <td>1933105668</td>\n",
              "      <td>\"Wendy Palmer\"</td>\n",
              "      <td>\"HeyyJessica\"</td>\n",
              "      <td>\"\"</td>\n",
              "      <td>To be populated</td>\n",
              "      <td>null</td>\n",
              "      <td>false</td>\n",
              "      <td>74</td>\n",
              "      <td>0</td>\n",
              "      <td>...</td>\n",
              "      <td>false</td>\n",
              "      <td>\"none\"</td>\n",
              "      <td>None</td>\n",
              "      <td>None</td>\n",
              "      <td>1</td>\n",
              "      <td>pronbots_2019_df</td>\n",
              "      <td>None</td>\n",
              "      <td>None</td>\n",
              "      <td>None</td>\n",
              "      <td>None</td>\n",
              "    </tr>\n",
              "    <tr>\n",
              "      <th>1058414</th>\n",
              "      <td>\"Sat Mar 10 04:42:55 +0000 2018\"</td>\n",
              "      <td>3222769956</td>\n",
              "      <td>\"Irene Miln\"</td>\n",
              "      <td>\"Clown327426514\"</td>\n",
              "      <td>\"\"</td>\n",
              "      <td>To be populated</td>\n",
              "      <td>null</td>\n",
              "      <td>false</td>\n",
              "      <td>3</td>\n",
              "      <td>0</td>\n",
              "      <td>...</td>\n",
              "      <td>false</td>\n",
              "      <td>\"none\"</td>\n",
              "      <td>None</td>\n",
              "      <td>None</td>\n",
              "      <td>1</td>\n",
              "      <td>pronbots_2019_df</td>\n",
              "      <td>None</td>\n",
              "      <td>None</td>\n",
              "      <td>None</td>\n",
              "      <td>None</td>\n",
              "    </tr>\n",
              "    <tr>\n",
              "      <th>1058415</th>\n",
              "      <td>\"Sat Mar 10 05:55:45 +0000 2018\"</td>\n",
              "      <td>766645102148059136</td>\n",
              "      <td></td>\n",
              "      <td></td>\n",
              "      <td></td>\n",
              "      <td>To be populated</td>\n",
              "      <td></td>\n",
              "      <td></td>\n",
              "      <td></td>\n",
              "      <td></td>\n",
              "      <td>...</td>\n",
              "      <td></td>\n",
              "      <td>\"none\"</td>\n",
              "      <td>None</td>\n",
              "      <td>None</td>\n",
              "      <td>1</td>\n",
              "      <td>pronbots_2019_df</td>\n",
              "      <td>None</td>\n",
              "      <td>None</td>\n",
              "      <td>None</td>\n",
              "      <td>None</td>\n",
              "    </tr>\n",
              "  </tbody>\n",
              "</table>\n",
              "<p>1058416 rows × 45 columns</p>\n",
              "</div>\n",
              "      <button class=\"colab-df-convert\" onclick=\"convertToInteractive('df-d9f07d30-dcb2-492e-93c3-19cf46910b67')\"\n",
              "              title=\"Convert this dataframe to an interactive table.\"\n",
              "              style=\"display:none;\">\n",
              "        \n",
              "  <svg xmlns=\"http://www.w3.org/2000/svg\" height=\"24px\"viewBox=\"0 0 24 24\"\n",
              "       width=\"24px\">\n",
              "    <path d=\"M0 0h24v24H0V0z\" fill=\"none\"/>\n",
              "    <path d=\"M18.56 5.44l.94 2.06.94-2.06 2.06-.94-2.06-.94-.94-2.06-.94 2.06-2.06.94zm-11 1L8.5 8.5l.94-2.06 2.06-.94-2.06-.94L8.5 2.5l-.94 2.06-2.06.94zm10 10l.94 2.06.94-2.06 2.06-.94-2.06-.94-.94-2.06-.94 2.06-2.06.94z\"/><path d=\"M17.41 7.96l-1.37-1.37c-.4-.4-.92-.59-1.43-.59-.52 0-1.04.2-1.43.59L10.3 9.45l-7.72 7.72c-.78.78-.78 2.05 0 2.83L4 21.41c.39.39.9.59 1.41.59.51 0 1.02-.2 1.41-.59l7.78-7.78 2.81-2.81c.8-.78.8-2.07 0-2.86zM5.41 20L4 18.59l7.72-7.72 1.47 1.35L5.41 20z\"/>\n",
              "  </svg>\n",
              "      </button>\n",
              "      \n",
              "  <style>\n",
              "    .colab-df-container {\n",
              "      display:flex;\n",
              "      flex-wrap:wrap;\n",
              "      gap: 12px;\n",
              "    }\n",
              "\n",
              "    .colab-df-convert {\n",
              "      background-color: #E8F0FE;\n",
              "      border: none;\n",
              "      border-radius: 50%;\n",
              "      cursor: pointer;\n",
              "      display: none;\n",
              "      fill: #1967D2;\n",
              "      height: 32px;\n",
              "      padding: 0 0 0 0;\n",
              "      width: 32px;\n",
              "    }\n",
              "\n",
              "    .colab-df-convert:hover {\n",
              "      background-color: #E2EBFA;\n",
              "      box-shadow: 0px 1px 2px rgba(60, 64, 67, 0.3), 0px 1px 3px 1px rgba(60, 64, 67, 0.15);\n",
              "      fill: #174EA6;\n",
              "    }\n",
              "\n",
              "    [theme=dark] .colab-df-convert {\n",
              "      background-color: #3B4455;\n",
              "      fill: #D2E3FC;\n",
              "    }\n",
              "\n",
              "    [theme=dark] .colab-df-convert:hover {\n",
              "      background-color: #434B5C;\n",
              "      box-shadow: 0px 1px 3px 1px rgba(0, 0, 0, 0.15);\n",
              "      filter: drop-shadow(0px 1px 2px rgba(0, 0, 0, 0.3));\n",
              "      fill: #FFFFFF;\n",
              "    }\n",
              "  </style>\n",
              "\n",
              "      <script>\n",
              "        const buttonEl =\n",
              "          document.querySelector('#df-d9f07d30-dcb2-492e-93c3-19cf46910b67 button.colab-df-convert');\n",
              "        buttonEl.style.display =\n",
              "          google.colab.kernel.accessAllowed ? 'block' : 'none';\n",
              "\n",
              "        async function convertToInteractive(key) {\n",
              "          const element = document.querySelector('#df-d9f07d30-dcb2-492e-93c3-19cf46910b67');\n",
              "          const dataTable =\n",
              "            await google.colab.kernel.invokeFunction('convertToInteractive',\n",
              "                                                     [key], {});\n",
              "          if (!dataTable) return;\n",
              "\n",
              "          const docLinkHtml = 'Like what you see? Visit the ' +\n",
              "            '<a target=\"_blank\" href=https://colab.research.google.com/notebooks/data_table.ipynb>data table notebook</a>'\n",
              "            + ' to learn more about interactive tables.';\n",
              "          element.innerHTML = '';\n",
              "          dataTable['output_type'] = 'display_data';\n",
              "          await google.colab.output.renderOutput(dataTable, element);\n",
              "          const docLink = document.createElement('div');\n",
              "          docLink.innerHTML = docLinkHtml;\n",
              "          element.appendChild(docLink);\n",
              "        }\n",
              "      </script>\n",
              "    </div>\n",
              "  </div>\n",
              "  "
            ]
          },
          "metadata": {},
          "execution_count": 63
        }
      ],
      "source": [
        "#Resulting format of user_location: Country, city, city, city\n",
        "  #Successful for ~ 72% of entries\n",
        "\n",
        "df[\"user_location\"] = df.user_location.map(lambda x: x if type(x) != str else x if \", \".join(GeoText(x).countries + GeoText(x).cities) == \"\" else \", \".join(GeoText(x).countries + GeoText(x).cities))\n",
        "df"
      ]
    },
    {
      "cell_type": "markdown",
      "metadata": {
        "id": "WZTHltyOodSO"
      },
      "source": [
        "## Fixing the date column"
      ]
    },
    {
      "cell_type": "code",
      "execution_count": null,
      "metadata": {
        "colab": {
          "base_uri": "https://localhost:8080/",
          "height": 748
        },
        "id": "RtmkHXGfAxIC",
        "outputId": "c7fce2ab-2402-4a7d-844f-ba6f3b1c626d"
      },
      "outputs": [
        {
          "output_type": "stream",
          "name": "stderr",
          "text": [
            "100%|██████████| 1058416/1058416 [01:20<00:00, 13137.21it/s]\n"
          ]
        },
        {
          "output_type": "execute_result",
          "data": {
            "text/plain": [
              "               created_at_1              user_id                  user_name  \\\n",
              "0       2020-01-16 02:02:55  1217628182611927040                 Boaz Barak   \n",
              "1       2014-07-02 17:56:46           2664730894                  olawale 💨   \n",
              "2       2020-05-30 12:10:45  1266703520205549568               panagiota_.b   \n",
              "3       2019-01-26 13:52:49  1089159225148882949  Jacqueline Hodges, MD MPH   \n",
              "4       2009-04-30 19:01:42             36741729       Matthew Stubblefield   \n",
              "...                     ...                  ...                        ...   \n",
              "1058411 2018-03-02 22:13:07            188645930                Bessie Gate   \n",
              "1058412 2018-03-10 04:52:16            552236544                Paula Macey   \n",
              "1058413 2018-03-16 19:28:34           1933105668               Wendy Palmer   \n",
              "1058414 2018-03-10 04:42:55           3222769956                 Irene Miln   \n",
              "1058415 2018-03-10 05:55:45   766645102148059136                        NaN   \n",
              "\n",
              "        user_screen_name    user_location  \\\n",
              "0           boazbaraktcs        Cambridge   \n",
              "1                wale_io                🎈   \n",
              "2            b_panagiota             None   \n",
              "3           jachodges_md  Charlottesville   \n",
              "4          Matthew_Brody    United States   \n",
              "...                  ...              ...   \n",
              "1058411        ikumi0926           Hawaii   \n",
              "1058412      MingzeLi123              NaN   \n",
              "1058413      HeyyJessica              NaN   \n",
              "1058414   Clown327426514              NaN   \n",
              "1058415              NaN              NaN   \n",
              "\n",
              "                                          user_description  \\\n",
              "0        Theoretical Computer Scientist. See also https...   \n",
              "1                                               creative _   \n",
              "2                                                        👽   \n",
              "3        mama to maya. ABIM research pathway fellow @UV...   \n",
              "4                      Father / SWT Alumnus / Longhorn Fan   \n",
              "...                                                    ...   \n",
              "1058411                                                NaN   \n",
              "1058412                                                NaN   \n",
              "1058413                                                NaN   \n",
              "1058414                                                NaN   \n",
              "1058415                                                NaN   \n",
              "\n",
              "                        user_url protected followers_count friends_count  ...  \\\n",
              "0        https://t.co/BoMip9FF17     False            7316           215  ...   \n",
              "1                            NaN     False             123          1090  ...   \n",
              "2                            NaN     False               3            62  ...   \n",
              "3                            NaN     False             350           577  ...   \n",
              "4                            NaN      True             240           297  ...   \n",
              "...                          ...       ...             ...           ...  ...   \n",
              "1058411                      NaN     False              24             0  ...   \n",
              "1058412                      NaN     False               7             0  ...   \n",
              "1058413                      NaN     False              74             0  ...   \n",
              "1058414                      NaN     False               3             0  ...   \n",
              "1058415                      NaN       NaN             NaN           NaN  ...   \n",
              "\n",
              "        notifications translator_type pinned_tweet_id withheld Bot  \\\n",
              "0                 NaN             NaN             NaN     None   0   \n",
              "1                 NaN             NaN             NaN     None   0   \n",
              "2                 NaN             NaN             NaN     None   0   \n",
              "3                 NaN             NaN             NaN     None   0   \n",
              "4                 NaN             NaN             NaN     None   1   \n",
              "...               ...             ...             ...      ...  ..   \n",
              "1058411         False            none             NaN     None   1   \n",
              "1058412         False            none             NaN     None   1   \n",
              "1058413         False            none             NaN     None   1   \n",
              "1058414         False            none             NaN     None   1   \n",
              "1058415           NaN            none             NaN     None   1   \n",
              "\n",
              "             Source/label has_extended_profile profile_location  \\\n",
              "0                TwiBot22                 None             None   \n",
              "1                TwiBot22                 None             None   \n",
              "2                TwiBot22                 None             None   \n",
              "3                TwiBot22                 None             None   \n",
              "4                TwiBot22                 None             None   \n",
              "...                   ...                  ...              ...   \n",
              "1058411  pronbots_2019_df                 None             None   \n",
              "1058412  pronbots_2019_df                 None             None   \n",
              "1058413  pronbots_2019_df                 None             None   \n",
              "1058414  pronbots_2019_df                 None             None   \n",
              "1058415  pronbots_2019_df                 None             None   \n",
              "\n",
              "        default_profile default_profile_image  \n",
              "0                  None                  None  \n",
              "1                  None                  None  \n",
              "2                  None                  None  \n",
              "3                  None                  None  \n",
              "4                  None                  None  \n",
              "...                 ...                   ...  \n",
              "1058411            None                  None  \n",
              "1058412            None                  None  \n",
              "1058413            None                  None  \n",
              "1058414            None                  None  \n",
              "1058415            None                  None  \n",
              "\n",
              "[1058416 rows x 45 columns]"
            ],
            "text/html": [
              "\n",
              "  <div id=\"df-640464ff-1d79-4376-ac57-e7f01bf3257e\">\n",
              "    <div class=\"colab-df-container\">\n",
              "      <div>\n",
              "<style scoped>\n",
              "    .dataframe tbody tr th:only-of-type {\n",
              "        vertical-align: middle;\n",
              "    }\n",
              "\n",
              "    .dataframe tbody tr th {\n",
              "        vertical-align: top;\n",
              "    }\n",
              "\n",
              "    .dataframe thead th {\n",
              "        text-align: right;\n",
              "    }\n",
              "</style>\n",
              "<table border=\"1\" class=\"dataframe\">\n",
              "  <thead>\n",
              "    <tr style=\"text-align: right;\">\n",
              "      <th></th>\n",
              "      <th>created_at_1</th>\n",
              "      <th>user_id</th>\n",
              "      <th>user_name</th>\n",
              "      <th>user_screen_name</th>\n",
              "      <th>user_location</th>\n",
              "      <th>user_description</th>\n",
              "      <th>user_url</th>\n",
              "      <th>protected</th>\n",
              "      <th>followers_count</th>\n",
              "      <th>friends_count</th>\n",
              "      <th>...</th>\n",
              "      <th>notifications</th>\n",
              "      <th>translator_type</th>\n",
              "      <th>pinned_tweet_id</th>\n",
              "      <th>withheld</th>\n",
              "      <th>Bot</th>\n",
              "      <th>Source/label</th>\n",
              "      <th>has_extended_profile</th>\n",
              "      <th>profile_location</th>\n",
              "      <th>default_profile</th>\n",
              "      <th>default_profile_image</th>\n",
              "    </tr>\n",
              "  </thead>\n",
              "  <tbody>\n",
              "    <tr>\n",
              "      <th>0</th>\n",
              "      <td>2020-01-16 02:02:55</td>\n",
              "      <td>1217628182611927040</td>\n",
              "      <td>Boaz Barak</td>\n",
              "      <td>boazbaraktcs</td>\n",
              "      <td>Cambridge</td>\n",
              "      <td>Theoretical Computer Scientist. See also https...</td>\n",
              "      <td>https://t.co/BoMip9FF17</td>\n",
              "      <td>False</td>\n",
              "      <td>7316</td>\n",
              "      <td>215</td>\n",
              "      <td>...</td>\n",
              "      <td>NaN</td>\n",
              "      <td>NaN</td>\n",
              "      <td>NaN</td>\n",
              "      <td>None</td>\n",
              "      <td>0</td>\n",
              "      <td>TwiBot22</td>\n",
              "      <td>None</td>\n",
              "      <td>None</td>\n",
              "      <td>None</td>\n",
              "      <td>None</td>\n",
              "    </tr>\n",
              "    <tr>\n",
              "      <th>1</th>\n",
              "      <td>2014-07-02 17:56:46</td>\n",
              "      <td>2664730894</td>\n",
              "      <td>olawale 💨</td>\n",
              "      <td>wale_io</td>\n",
              "      <td>🎈</td>\n",
              "      <td>creative _</td>\n",
              "      <td>NaN</td>\n",
              "      <td>False</td>\n",
              "      <td>123</td>\n",
              "      <td>1090</td>\n",
              "      <td>...</td>\n",
              "      <td>NaN</td>\n",
              "      <td>NaN</td>\n",
              "      <td>NaN</td>\n",
              "      <td>None</td>\n",
              "      <td>0</td>\n",
              "      <td>TwiBot22</td>\n",
              "      <td>None</td>\n",
              "      <td>None</td>\n",
              "      <td>None</td>\n",
              "      <td>None</td>\n",
              "    </tr>\n",
              "    <tr>\n",
              "      <th>2</th>\n",
              "      <td>2020-05-30 12:10:45</td>\n",
              "      <td>1266703520205549568</td>\n",
              "      <td>panagiota_.b</td>\n",
              "      <td>b_panagiota</td>\n",
              "      <td>None</td>\n",
              "      <td>👽</td>\n",
              "      <td>NaN</td>\n",
              "      <td>False</td>\n",
              "      <td>3</td>\n",
              "      <td>62</td>\n",
              "      <td>...</td>\n",
              "      <td>NaN</td>\n",
              "      <td>NaN</td>\n",
              "      <td>NaN</td>\n",
              "      <td>None</td>\n",
              "      <td>0</td>\n",
              "      <td>TwiBot22</td>\n",
              "      <td>None</td>\n",
              "      <td>None</td>\n",
              "      <td>None</td>\n",
              "      <td>None</td>\n",
              "    </tr>\n",
              "    <tr>\n",
              "      <th>3</th>\n",
              "      <td>2019-01-26 13:52:49</td>\n",
              "      <td>1089159225148882949</td>\n",
              "      <td>Jacqueline Hodges, MD MPH</td>\n",
              "      <td>jachodges_md</td>\n",
              "      <td>Charlottesville</td>\n",
              "      <td>mama to maya. ABIM research pathway fellow @UV...</td>\n",
              "      <td>NaN</td>\n",
              "      <td>False</td>\n",
              "      <td>350</td>\n",
              "      <td>577</td>\n",
              "      <td>...</td>\n",
              "      <td>NaN</td>\n",
              "      <td>NaN</td>\n",
              "      <td>NaN</td>\n",
              "      <td>None</td>\n",
              "      <td>0</td>\n",
              "      <td>TwiBot22</td>\n",
              "      <td>None</td>\n",
              "      <td>None</td>\n",
              "      <td>None</td>\n",
              "      <td>None</td>\n",
              "    </tr>\n",
              "    <tr>\n",
              "      <th>4</th>\n",
              "      <td>2009-04-30 19:01:42</td>\n",
              "      <td>36741729</td>\n",
              "      <td>Matthew Stubblefield</td>\n",
              "      <td>Matthew_Brody</td>\n",
              "      <td>United States</td>\n",
              "      <td>Father / SWT Alumnus / Longhorn Fan</td>\n",
              "      <td>NaN</td>\n",
              "      <td>True</td>\n",
              "      <td>240</td>\n",
              "      <td>297</td>\n",
              "      <td>...</td>\n",
              "      <td>NaN</td>\n",
              "      <td>NaN</td>\n",
              "      <td>NaN</td>\n",
              "      <td>None</td>\n",
              "      <td>1</td>\n",
              "      <td>TwiBot22</td>\n",
              "      <td>None</td>\n",
              "      <td>None</td>\n",
              "      <td>None</td>\n",
              "      <td>None</td>\n",
              "    </tr>\n",
              "    <tr>\n",
              "      <th>...</th>\n",
              "      <td>...</td>\n",
              "      <td>...</td>\n",
              "      <td>...</td>\n",
              "      <td>...</td>\n",
              "      <td>...</td>\n",
              "      <td>...</td>\n",
              "      <td>...</td>\n",
              "      <td>...</td>\n",
              "      <td>...</td>\n",
              "      <td>...</td>\n",
              "      <td>...</td>\n",
              "      <td>...</td>\n",
              "      <td>...</td>\n",
              "      <td>...</td>\n",
              "      <td>...</td>\n",
              "      <td>...</td>\n",
              "      <td>...</td>\n",
              "      <td>...</td>\n",
              "      <td>...</td>\n",
              "      <td>...</td>\n",
              "      <td>...</td>\n",
              "    </tr>\n",
              "    <tr>\n",
              "      <th>1058411</th>\n",
              "      <td>2018-03-02 22:13:07</td>\n",
              "      <td>188645930</td>\n",
              "      <td>Bessie Gate</td>\n",
              "      <td>ikumi0926</td>\n",
              "      <td>Hawaii</td>\n",
              "      <td>NaN</td>\n",
              "      <td>NaN</td>\n",
              "      <td>False</td>\n",
              "      <td>24</td>\n",
              "      <td>0</td>\n",
              "      <td>...</td>\n",
              "      <td>False</td>\n",
              "      <td>none</td>\n",
              "      <td>NaN</td>\n",
              "      <td>None</td>\n",
              "      <td>1</td>\n",
              "      <td>pronbots_2019_df</td>\n",
              "      <td>None</td>\n",
              "      <td>None</td>\n",
              "      <td>None</td>\n",
              "      <td>None</td>\n",
              "    </tr>\n",
              "    <tr>\n",
              "      <th>1058412</th>\n",
              "      <td>2018-03-10 04:52:16</td>\n",
              "      <td>552236544</td>\n",
              "      <td>Paula Macey</td>\n",
              "      <td>MingzeLi123</td>\n",
              "      <td>NaN</td>\n",
              "      <td>NaN</td>\n",
              "      <td>NaN</td>\n",
              "      <td>False</td>\n",
              "      <td>7</td>\n",
              "      <td>0</td>\n",
              "      <td>...</td>\n",
              "      <td>False</td>\n",
              "      <td>none</td>\n",
              "      <td>NaN</td>\n",
              "      <td>None</td>\n",
              "      <td>1</td>\n",
              "      <td>pronbots_2019_df</td>\n",
              "      <td>None</td>\n",
              "      <td>None</td>\n",
              "      <td>None</td>\n",
              "      <td>None</td>\n",
              "    </tr>\n",
              "    <tr>\n",
              "      <th>1058413</th>\n",
              "      <td>2018-03-16 19:28:34</td>\n",
              "      <td>1933105668</td>\n",
              "      <td>Wendy Palmer</td>\n",
              "      <td>HeyyJessica</td>\n",
              "      <td>NaN</td>\n",
              "      <td>NaN</td>\n",
              "      <td>NaN</td>\n",
              "      <td>False</td>\n",
              "      <td>74</td>\n",
              "      <td>0</td>\n",
              "      <td>...</td>\n",
              "      <td>False</td>\n",
              "      <td>none</td>\n",
              "      <td>NaN</td>\n",
              "      <td>None</td>\n",
              "      <td>1</td>\n",
              "      <td>pronbots_2019_df</td>\n",
              "      <td>None</td>\n",
              "      <td>None</td>\n",
              "      <td>None</td>\n",
              "      <td>None</td>\n",
              "    </tr>\n",
              "    <tr>\n",
              "      <th>1058414</th>\n",
              "      <td>2018-03-10 04:42:55</td>\n",
              "      <td>3222769956</td>\n",
              "      <td>Irene Miln</td>\n",
              "      <td>Clown327426514</td>\n",
              "      <td>NaN</td>\n",
              "      <td>NaN</td>\n",
              "      <td>NaN</td>\n",
              "      <td>False</td>\n",
              "      <td>3</td>\n",
              "      <td>0</td>\n",
              "      <td>...</td>\n",
              "      <td>False</td>\n",
              "      <td>none</td>\n",
              "      <td>NaN</td>\n",
              "      <td>None</td>\n",
              "      <td>1</td>\n",
              "      <td>pronbots_2019_df</td>\n",
              "      <td>None</td>\n",
              "      <td>None</td>\n",
              "      <td>None</td>\n",
              "      <td>None</td>\n",
              "    </tr>\n",
              "    <tr>\n",
              "      <th>1058415</th>\n",
              "      <td>2018-03-10 05:55:45</td>\n",
              "      <td>766645102148059136</td>\n",
              "      <td>NaN</td>\n",
              "      <td>NaN</td>\n",
              "      <td>NaN</td>\n",
              "      <td>NaN</td>\n",
              "      <td>NaN</td>\n",
              "      <td>NaN</td>\n",
              "      <td>NaN</td>\n",
              "      <td>NaN</td>\n",
              "      <td>...</td>\n",
              "      <td>NaN</td>\n",
              "      <td>none</td>\n",
              "      <td>NaN</td>\n",
              "      <td>None</td>\n",
              "      <td>1</td>\n",
              "      <td>pronbots_2019_df</td>\n",
              "      <td>None</td>\n",
              "      <td>None</td>\n",
              "      <td>None</td>\n",
              "      <td>None</td>\n",
              "    </tr>\n",
              "  </tbody>\n",
              "</table>\n",
              "<p>1058416 rows × 45 columns</p>\n",
              "</div>\n",
              "      <button class=\"colab-df-convert\" onclick=\"convertToInteractive('df-640464ff-1d79-4376-ac57-e7f01bf3257e')\"\n",
              "              title=\"Convert this dataframe to an interactive table.\"\n",
              "              style=\"display:none;\">\n",
              "        \n",
              "  <svg xmlns=\"http://www.w3.org/2000/svg\" height=\"24px\"viewBox=\"0 0 24 24\"\n",
              "       width=\"24px\">\n",
              "    <path d=\"M0 0h24v24H0V0z\" fill=\"none\"/>\n",
              "    <path d=\"M18.56 5.44l.94 2.06.94-2.06 2.06-.94-2.06-.94-.94-2.06-.94 2.06-2.06.94zm-11 1L8.5 8.5l.94-2.06 2.06-.94-2.06-.94L8.5 2.5l-.94 2.06-2.06.94zm10 10l.94 2.06.94-2.06 2.06-.94-2.06-.94-.94-2.06-.94 2.06-2.06.94z\"/><path d=\"M17.41 7.96l-1.37-1.37c-.4-.4-.92-.59-1.43-.59-.52 0-1.04.2-1.43.59L10.3 9.45l-7.72 7.72c-.78.78-.78 2.05 0 2.83L4 21.41c.39.39.9.59 1.41.59.51 0 1.02-.2 1.41-.59l7.78-7.78 2.81-2.81c.8-.78.8-2.07 0-2.86zM5.41 20L4 18.59l7.72-7.72 1.47 1.35L5.41 20z\"/>\n",
              "  </svg>\n",
              "      </button>\n",
              "      \n",
              "  <style>\n",
              "    .colab-df-container {\n",
              "      display:flex;\n",
              "      flex-wrap:wrap;\n",
              "      gap: 12px;\n",
              "    }\n",
              "\n",
              "    .colab-df-convert {\n",
              "      background-color: #E8F0FE;\n",
              "      border: none;\n",
              "      border-radius: 50%;\n",
              "      cursor: pointer;\n",
              "      display: none;\n",
              "      fill: #1967D2;\n",
              "      height: 32px;\n",
              "      padding: 0 0 0 0;\n",
              "      width: 32px;\n",
              "    }\n",
              "\n",
              "    .colab-df-convert:hover {\n",
              "      background-color: #E2EBFA;\n",
              "      box-shadow: 0px 1px 2px rgba(60, 64, 67, 0.3), 0px 1px 3px 1px rgba(60, 64, 67, 0.15);\n",
              "      fill: #174EA6;\n",
              "    }\n",
              "\n",
              "    [theme=dark] .colab-df-convert {\n",
              "      background-color: #3B4455;\n",
              "      fill: #D2E3FC;\n",
              "    }\n",
              "\n",
              "    [theme=dark] .colab-df-convert:hover {\n",
              "      background-color: #434B5C;\n",
              "      box-shadow: 0px 1px 3px 1px rgba(0, 0, 0, 0.15);\n",
              "      filter: drop-shadow(0px 1px 2px rgba(0, 0, 0, 0.3));\n",
              "      fill: #FFFFFF;\n",
              "    }\n",
              "  </style>\n",
              "\n",
              "      <script>\n",
              "        const buttonEl =\n",
              "          document.querySelector('#df-640464ff-1d79-4376-ac57-e7f01bf3257e button.colab-df-convert');\n",
              "        buttonEl.style.display =\n",
              "          google.colab.kernel.accessAllowed ? 'block' : 'none';\n",
              "\n",
              "        async function convertToInteractive(key) {\n",
              "          const element = document.querySelector('#df-640464ff-1d79-4376-ac57-e7f01bf3257e');\n",
              "          const dataTable =\n",
              "            await google.colab.kernel.invokeFunction('convertToInteractive',\n",
              "                                                     [key], {});\n",
              "          if (!dataTable) return;\n",
              "\n",
              "          const docLinkHtml = 'Like what you see? Visit the ' +\n",
              "            '<a target=\"_blank\" href=https://colab.research.google.com/notebooks/data_table.ipynb>data table notebook</a>'\n",
              "            + ' to learn more about interactive tables.';\n",
              "          element.innerHTML = '';\n",
              "          dataTable['output_type'] = 'display_data';\n",
              "          await google.colab.output.renderOutput(dataTable, element);\n",
              "          const docLink = document.createElement('div');\n",
              "          docLink.innerHTML = docLinkHtml;\n",
              "          element.appendChild(docLink);\n",
              "        }\n",
              "      </script>\n",
              "    </div>\n",
              "  </div>\n",
              "  "
            ]
          },
          "metadata": {},
          "execution_count": 66
        }
      ],
      "source": [
        "\"\"\"\n",
        "The date column (created_at_1) comes in different formats depending on the dataset\n",
        "  Twibot 22 - '%Y-%m-%d %H:%M:%S + %f'\n",
        "  Good bots - int(x)/ 1e3\n",
        "  Twibot 20 - '%a %b %d %H:%M:%S +%f %Y '\n",
        "    Note the white space at the end\n",
        "  cresci stock 2018 - '%a %b %d %H:%M:%S +%f %Y'\n",
        "  pronbots 2019 - '%a %b %d %H:%M:%S +%f %Y'\n",
        "  celebrity 2019 - '%a %b %d %H:%M:%S +%f %Y'\n",
        "  political bots 2019 - '%a %b %d %H:%M:%S +%f %Y'\n",
        "  vendor purchased 2019 - '%a %b %d %H:%M:%S +%f %Y'\n",
        "  verified 2019 - '%a %b %d %H:%M:%S +%f %Y'\n",
        "  botwiki 2019 - '%a %b %d %H:%M:%S +%f %Y'\n",
        "\n",
        "\"\"\"\n",
        "\n",
        "date_lst = []\n",
        "\n",
        "\n",
        "for i in tqdm(range(len(df))):\n",
        "  try:\n",
        "    date_lst.append(datetime.strptime(df.created_at_1.iloc[i].split('+')[0], '%Y-%m-%d %H:%M:%S'))\n",
        "    continue\n",
        "  except:\n",
        "    try:\n",
        "      date_lst.append(datetime.fromtimestamp(int(df.created_at_1.iloc[i]) / 1e3))\n",
        "      continue\n",
        "    except:\n",
        "      try:\n",
        "        date_lst.append(datetime.strptime(df.created_at_1.iloc[i], '%a %b %d %H:%M:%S +%f %Y'))\n",
        "      except:\n",
        "        try:\n",
        "          date_lst.append(datetime.strptime(df.created_at_1.iloc[i], '%a %b %d %H:%M:%S +%f %Y '))\n",
        "        except:\n",
        "          date_lst.append(df.created_at_1.iloc[i])\n",
        "          \n",
        "\n",
        "df.created_at_1 = date_lst\n",
        "df"
      ]
    },
    {
      "cell_type": "markdown",
      "metadata": {
        "id": "KcqcKgV0NYek"
      },
      "source": [
        "## Exluding non-english accounts - using LangDetect\n"
      ]
    },
    {
      "cell_type": "markdown",
      "source": [
        "**Motivation:**\n",
        "\n",
        "There are too many missing values in lang, using an aproach where I apply langdetect on the user descriptions and user names\n",
        "\n",
        "In total 186 877 accounts are detected as non-english, of which 19 120 are bots"
      ],
      "metadata": {
        "id": "SxUAuCeo5CYg"
      }
    },
    {
      "cell_type": "markdown",
      "source": [
        "### Generating non-english detect_langs_identified_as_english_df"
      ],
      "metadata": {
        "id": "B04EBReTiH16"
      }
    },
    {
      "cell_type": "markdown",
      "source": [
        "#### Looping through the descriptions and user names"
      ],
      "metadata": {
        "id": "6pGWeLqGEias"
      }
    },
    {
      "cell_type": "code",
      "source": [
        "\"\"\"\n",
        "Going through user descriptions and user names to try to identify non-english accounts\n",
        "As user_screen_name resulted in too many false negatives, i.e. letting through too many non-english accounts, it is excluded \n",
        "\"\"\"\n",
        "\n",
        "non_english = []\n",
        "no_bio = []\n",
        "for i in tqdm(range(len(df))):\n",
        "\n",
        "  try: \n",
        "    if detect(df.user_description.iloc[i]) == 'en':\n",
        "      continue\n",
        "    if detect(df.user_name.iloc[i]) == 'en':\n",
        "      continue\n",
        "    non_english.append(i)\n",
        "  except LangDetectException:\n",
        "    pass\n",
        "  except TypeError:\n",
        "    no_bio.append(i)  \n",
        "  "
      ],
      "metadata": {
        "colab": {
          "base_uri": "https://localhost:8080/"
        },
        "id": "ZQyfJnDnBKxO",
        "outputId": "60104d60-0f3b-44bd-9497-ae26cc73ce9a"
      },
      "execution_count": null,
      "outputs": [
        {
          "metadata": {
            "tags": null
          },
          "name": "stderr",
          "output_type": "stream",
          "text": [
            "  0%|          | 0/1058416 [00:00<?, ?it/s]/usr/local/lib/python3.7/dist-packages/ipykernel_launcher.py:10: DeprecationWarning: The default dtype for empty Series will be 'object' instead of 'float64' in a future version. Specify a dtype explicitly to silence this warning.\n",
            "  # Remove the CWD from sys.path while we load stuff.\n",
            "  0%|          | 12/1058416 [00:00<2:28:37, 118.69it/s]"
          ]
        },
        {
          "metadata": {
            "tags": null
          },
          "name": "stdout",
          "output_type": "stream",
          "text": [
            "successfully stored: 0\n"
          ]
        },
        {
          "metadata": {
            "tags": null
          },
          "name": "stderr",
          "output_type": "stream",
          "text": [
            "  1%|          | 10029/1058416 [01:24<1:57:11, 149.09it/s]"
          ]
        },
        {
          "metadata": {
            "tags": null
          },
          "name": "stdout",
          "output_type": "stream",
          "text": [
            "successfully stored: 10000\n"
          ]
        },
        {
          "metadata": {
            "tags": null
          },
          "name": "stderr",
          "output_type": "stream",
          "text": [
            "  2%|▏         | 20016/1058416 [02:45<2:09:59, 133.14it/s]"
          ]
        },
        {
          "metadata": {
            "tags": null
          },
          "name": "stdout",
          "output_type": "stream",
          "text": [
            "successfully stored: 20000\n"
          ]
        },
        {
          "metadata": {
            "tags": null
          },
          "name": "stderr",
          "output_type": "stream",
          "text": [
            "  3%|▎         | 30025/1058416 [04:23<1:55:21, 148.58it/s]"
          ]
        },
        {
          "metadata": {
            "tags": null
          },
          "name": "stdout",
          "output_type": "stream",
          "text": [
            "successfully stored: 30000\n"
          ]
        },
        {
          "metadata": {
            "tags": null
          },
          "name": "stderr",
          "output_type": "stream",
          "text": [
            "  4%|▍         | 40021/1058416 [05:45<2:07:24, 133.23it/s]"
          ]
        },
        {
          "metadata": {
            "tags": null
          },
          "name": "stdout",
          "output_type": "stream",
          "text": [
            "successfully stored: 40000\n"
          ]
        },
        {
          "metadata": {
            "tags": null
          },
          "name": "stderr",
          "output_type": "stream",
          "text": [
            "  5%|▍         | 50016/1058416 [07:08<1:48:00, 155.62it/s]"
          ]
        },
        {
          "metadata": {
            "tags": null
          },
          "name": "stdout",
          "output_type": "stream",
          "text": [
            "successfully stored: 50000\n"
          ]
        },
        {
          "metadata": {
            "tags": null
          },
          "name": "stderr",
          "output_type": "stream",
          "text": [
            "  6%|▌         | 60024/1058416 [08:28<1:44:57, 158.54it/s]"
          ]
        },
        {
          "metadata": {
            "tags": null
          },
          "name": "stdout",
          "output_type": "stream",
          "text": [
            "successfully stored: 60000\n"
          ]
        },
        {
          "metadata": {
            "tags": null
          },
          "name": "stderr",
          "output_type": "stream",
          "text": [
            "  7%|▋         | 70018/1058416 [09:54<2:13:14, 123.63it/s]"
          ]
        },
        {
          "metadata": {
            "tags": null
          },
          "name": "stdout",
          "output_type": "stream",
          "text": [
            "successfully stored: 70000\n"
          ]
        },
        {
          "metadata": {
            "tags": null
          },
          "name": "stderr",
          "output_type": "stream",
          "text": [
            "  8%|▊         | 80017/1058416 [11:13<1:52:27, 145.00it/s]"
          ]
        },
        {
          "metadata": {
            "tags": null
          },
          "name": "stdout",
          "output_type": "stream",
          "text": [
            "successfully stored: 80000\n"
          ]
        },
        {
          "metadata": {
            "tags": null
          },
          "name": "stderr",
          "output_type": "stream",
          "text": [
            "  9%|▊         | 90031/1058416 [12:42<1:45:49, 152.52it/s]"
          ]
        },
        {
          "metadata": {
            "tags": null
          },
          "name": "stdout",
          "output_type": "stream",
          "text": [
            "successfully stored: 90000\n"
          ]
        },
        {
          "metadata": {
            "tags": null
          },
          "name": "stderr",
          "output_type": "stream",
          "text": [
            "  9%|▉         | 100029/1058416 [14:19<1:48:42, 146.93it/s]"
          ]
        },
        {
          "metadata": {
            "tags": null
          },
          "name": "stdout",
          "output_type": "stream",
          "text": [
            "successfully stored: 100000\n"
          ]
        },
        {
          "metadata": {
            "tags": null
          },
          "name": "stderr",
          "output_type": "stream",
          "text": [
            " 10%|█         | 110033/1058416 [15:46<1:54:04, 138.57it/s]"
          ]
        },
        {
          "metadata": {
            "tags": null
          },
          "name": "stdout",
          "output_type": "stream",
          "text": [
            "successfully stored: 110000\n"
          ]
        },
        {
          "metadata": {
            "tags": null
          },
          "name": "stderr",
          "output_type": "stream",
          "text": [
            " 11%|█▏        | 120017/1058416 [17:13<2:34:12, 101.42it/s]"
          ]
        },
        {
          "metadata": {
            "tags": null
          },
          "name": "stdout",
          "output_type": "stream",
          "text": [
            "successfully stored: 120000\n"
          ]
        },
        {
          "metadata": {
            "tags": null
          },
          "name": "stderr",
          "output_type": "stream",
          "text": [
            " 12%|█▏        | 130020/1058416 [18:33<1:49:29, 141.31it/s]"
          ]
        },
        {
          "metadata": {
            "tags": null
          },
          "name": "stdout",
          "output_type": "stream",
          "text": [
            "successfully stored: 130000\n"
          ]
        },
        {
          "metadata": {
            "tags": null
          },
          "name": "stderr",
          "output_type": "stream",
          "text": [
            " 13%|█▎        | 140023/1058416 [19:57<2:16:19, 112.28it/s]"
          ]
        },
        {
          "metadata": {
            "tags": null
          },
          "name": "stdout",
          "output_type": "stream",
          "text": [
            "successfully stored: 140000\n"
          ]
        },
        {
          "metadata": {
            "tags": null
          },
          "name": "stderr",
          "output_type": "stream",
          "text": [
            " 14%|█▍        | 150017/1058416 [21:17<1:44:03, 145.50it/s]"
          ]
        },
        {
          "metadata": {
            "tags": null
          },
          "name": "stdout",
          "output_type": "stream",
          "text": [
            "successfully stored: 150000\n"
          ]
        },
        {
          "metadata": {
            "tags": null
          },
          "name": "stderr",
          "output_type": "stream",
          "text": [
            " 15%|█▌        | 160021/1058416 [22:49<1:35:05, 157.46it/s]"
          ]
        },
        {
          "metadata": {
            "tags": null
          },
          "name": "stdout",
          "output_type": "stream",
          "text": [
            "successfully stored: 160000\n"
          ]
        },
        {
          "metadata": {
            "tags": null
          },
          "name": "stderr",
          "output_type": "stream",
          "text": [
            " 16%|█▌        | 170028/1058416 [24:13<1:49:09, 135.64it/s]"
          ]
        },
        {
          "metadata": {
            "tags": null
          },
          "name": "stdout",
          "output_type": "stream",
          "text": [
            "successfully stored: 170000\n"
          ]
        },
        {
          "metadata": {
            "tags": null
          },
          "name": "stderr",
          "output_type": "stream",
          "text": [
            " 17%|█▋        | 180028/1058416 [25:47<1:53:08, 129.40it/s]"
          ]
        },
        {
          "metadata": {
            "tags": null
          },
          "name": "stdout",
          "output_type": "stream",
          "text": [
            "successfully stored: 180000\n"
          ]
        },
        {
          "metadata": {
            "tags": null
          },
          "name": "stderr",
          "output_type": "stream",
          "text": [
            " 18%|█▊        | 190014/1058416 [27:09<2:11:42, 109.89it/s]"
          ]
        },
        {
          "metadata": {
            "tags": null
          },
          "name": "stdout",
          "output_type": "stream",
          "text": [
            "successfully stored: 190000\n"
          ]
        },
        {
          "metadata": {
            "tags": null
          },
          "name": "stderr",
          "output_type": "stream",
          "text": [
            " 19%|█▉        | 200013/1058416 [28:39<1:51:35, 128.21it/s]"
          ]
        },
        {
          "metadata": {
            "tags": null
          },
          "name": "stdout",
          "output_type": "stream",
          "text": [
            "successfully stored: 200000\n"
          ]
        },
        {
          "metadata": {
            "tags": null
          },
          "name": "stderr",
          "output_type": "stream",
          "text": [
            " 20%|█▉        | 210011/1058416 [30:21<2:40:28, 88.11it/s] "
          ]
        },
        {
          "metadata": {
            "tags": null
          },
          "name": "stdout",
          "output_type": "stream",
          "text": [
            "successfully stored: 210000\n"
          ]
        },
        {
          "metadata": {
            "tags": null
          },
          "name": "stderr",
          "output_type": "stream",
          "text": [
            " 21%|██        | 220018/1058416 [32:24<2:15:42, 102.97it/s]"
          ]
        },
        {
          "metadata": {
            "tags": null
          },
          "name": "stdout",
          "output_type": "stream",
          "text": [
            "successfully stored: 220000\n"
          ]
        },
        {
          "metadata": {
            "tags": null
          },
          "name": "stderr",
          "output_type": "stream",
          "text": [
            " 22%|██▏       | 230008/1058416 [34:25<3:00:04, 76.67it/s]"
          ]
        },
        {
          "metadata": {
            "tags": null
          },
          "name": "stdout",
          "output_type": "stream",
          "text": [
            "successfully stored: 230000\n"
          ]
        },
        {
          "metadata": {
            "tags": null
          },
          "name": "stderr",
          "output_type": "stream",
          "text": [
            " 23%|██▎       | 240019/1058416 [36:07<1:52:30, 121.23it/s]"
          ]
        },
        {
          "metadata": {
            "tags": null
          },
          "name": "stdout",
          "output_type": "stream",
          "text": [
            "successfully stored: 240000\n"
          ]
        },
        {
          "metadata": {
            "tags": null
          },
          "name": "stderr",
          "output_type": "stream",
          "text": [
            " 24%|██▎       | 250007/1058416 [37:42<1:44:28, 128.96it/s]"
          ]
        },
        {
          "metadata": {
            "tags": null
          },
          "name": "stdout",
          "output_type": "stream",
          "text": [
            "successfully stored: 250000\n"
          ]
        },
        {
          "metadata": {
            "tags": null
          },
          "name": "stderr",
          "output_type": "stream",
          "text": [
            " 25%|██▍       | 260014/1058416 [39:18<1:54:22, 116.35it/s]"
          ]
        },
        {
          "metadata": {
            "tags": null
          },
          "name": "stdout",
          "output_type": "stream",
          "text": [
            "successfully stored: 260000\n"
          ]
        },
        {
          "metadata": {
            "tags": null
          },
          "name": "stderr",
          "output_type": "stream",
          "text": [
            " 26%|██▌       | 270005/1058416 [40:52<3:35:55, 60.85it/s]"
          ]
        },
        {
          "metadata": {
            "tags": null
          },
          "name": "stdout",
          "output_type": "stream",
          "text": [
            "successfully stored: 270000\n"
          ]
        },
        {
          "metadata": {
            "tags": null
          },
          "name": "stderr",
          "output_type": "stream",
          "text": [
            " 26%|██▋       | 280003/1058416 [43:04<5:09:13, 41.95it/s]"
          ]
        },
        {
          "metadata": {
            "tags": null
          },
          "name": "stdout",
          "output_type": "stream",
          "text": [
            "successfully stored: 280000\n"
          ]
        },
        {
          "metadata": {
            "tags": null
          },
          "name": "stderr",
          "output_type": "stream",
          "text": [
            " 27%|██▋       | 290008/1058416 [44:55<3:44:14, 57.11it/s]"
          ]
        },
        {
          "metadata": {
            "tags": null
          },
          "name": "stdout",
          "output_type": "stream",
          "text": [
            "successfully stored: 290000\n"
          ]
        },
        {
          "metadata": {
            "tags": null
          },
          "name": "stderr",
          "output_type": "stream",
          "text": [
            " 28%|██▊       | 300020/1058416 [46:26<1:54:52, 110.03it/s]"
          ]
        },
        {
          "metadata": {
            "tags": null
          },
          "name": "stdout",
          "output_type": "stream",
          "text": [
            "successfully stored: 300000\n"
          ]
        },
        {
          "metadata": {
            "tags": null
          },
          "name": "stderr",
          "output_type": "stream",
          "text": [
            " 29%|██▉       | 310024/1058416 [48:11<1:52:30, 110.86it/s]"
          ]
        },
        {
          "metadata": {
            "tags": null
          },
          "name": "stdout",
          "output_type": "stream",
          "text": [
            "successfully stored: 310000\n"
          ]
        },
        {
          "metadata": {
            "tags": null
          },
          "name": "stderr",
          "output_type": "stream",
          "text": [
            " 30%|███       | 320021/1058416 [49:40<1:49:23, 112.49it/s]"
          ]
        },
        {
          "metadata": {
            "tags": null
          },
          "name": "stdout",
          "output_type": "stream",
          "text": [
            "successfully stored: 320000\n"
          ]
        },
        {
          "metadata": {
            "tags": null
          },
          "name": "stderr",
          "output_type": "stream",
          "text": [
            " 31%|███       | 330011/1058416 [51:16<2:19:52, 86.79it/s]"
          ]
        },
        {
          "metadata": {
            "tags": null
          },
          "name": "stdout",
          "output_type": "stream",
          "text": [
            "successfully stored: 330000\n"
          ]
        },
        {
          "metadata": {
            "tags": null
          },
          "name": "stderr",
          "output_type": "stream",
          "text": [
            " 32%|███▏      | 340017/1058416 [52:48<1:43:47, 115.36it/s]"
          ]
        },
        {
          "metadata": {
            "tags": null
          },
          "name": "stdout",
          "output_type": "stream",
          "text": [
            "successfully stored: 340000\n"
          ]
        },
        {
          "metadata": {
            "tags": null
          },
          "name": "stderr",
          "output_type": "stream",
          "text": [
            " 33%|███▎      | 350014/1058416 [54:20<1:43:29, 114.08it/s]"
          ]
        },
        {
          "metadata": {
            "tags": null
          },
          "name": "stdout",
          "output_type": "stream",
          "text": [
            "successfully stored: 350000\n"
          ]
        },
        {
          "metadata": {
            "tags": null
          },
          "name": "stderr",
          "output_type": "stream",
          "text": [
            " 34%|███▍      | 360020/1058416 [56:06<1:53:42, 102.36it/s]"
          ]
        },
        {
          "metadata": {
            "tags": null
          },
          "name": "stdout",
          "output_type": "stream",
          "text": [
            "successfully stored: 360000\n"
          ]
        },
        {
          "metadata": {
            "tags": null
          },
          "name": "stderr",
          "output_type": "stream",
          "text": [
            " 35%|███▍      | 370015/1058416 [57:46<1:29:45, 127.83it/s]"
          ]
        },
        {
          "metadata": {
            "tags": null
          },
          "name": "stdout",
          "output_type": "stream",
          "text": [
            "successfully stored: 370000\n"
          ]
        },
        {
          "metadata": {
            "tags": null
          },
          "name": "stderr",
          "output_type": "stream",
          "text": [
            " 36%|███▌      | 380014/1058416 [59:24<2:48:48, 66.98it/s]"
          ]
        },
        {
          "metadata": {
            "tags": null
          },
          "name": "stdout",
          "output_type": "stream",
          "text": [
            "successfully stored: 380000\n"
          ]
        },
        {
          "metadata": {
            "tags": null
          },
          "name": "stderr",
          "output_type": "stream",
          "text": [
            " 37%|███▋      | 389999/1058416 [1:00:57<1:47:19, 103.80it/s]"
          ]
        },
        {
          "metadata": {
            "tags": null
          },
          "name": "stdout",
          "output_type": "stream",
          "text": [
            "successfully stored: 390000\n"
          ]
        },
        {
          "metadata": {
            "tags": null
          },
          "name": "stderr",
          "output_type": "stream",
          "text": [
            " 38%|███▊      | 399995/1058416 [1:02:34<1:31:56, 119.36it/s]"
          ]
        },
        {
          "metadata": {
            "tags": null
          },
          "name": "stdout",
          "output_type": "stream",
          "text": [
            "successfully stored: 400000\n"
          ]
        },
        {
          "metadata": {
            "tags": null
          },
          "name": "stderr",
          "output_type": "stream",
          "text": [
            " 39%|███▊      | 410019/1058416 [1:04:14<1:17:28, 139.47it/s]"
          ]
        },
        {
          "metadata": {
            "tags": null
          },
          "name": "stdout",
          "output_type": "stream",
          "text": [
            "successfully stored: 410000\n"
          ]
        },
        {
          "metadata": {
            "tags": null
          },
          "name": "stderr",
          "output_type": "stream",
          "text": [
            " 40%|███▉      | 420014/1058416 [1:05:52<2:17:20, 77.47it/s]"
          ]
        },
        {
          "metadata": {
            "tags": null
          },
          "name": "stdout",
          "output_type": "stream",
          "text": [
            "successfully stored: 420000\n"
          ]
        },
        {
          "metadata": {
            "tags": null
          },
          "name": "stderr",
          "output_type": "stream",
          "text": [
            " 41%|████      | 430013/1058416 [1:07:35<2:00:24, 86.99it/s]"
          ]
        },
        {
          "metadata": {
            "tags": null
          },
          "name": "stdout",
          "output_type": "stream",
          "text": [
            "successfully stored: 430000\n"
          ]
        },
        {
          "metadata": {
            "tags": null
          },
          "name": "stderr",
          "output_type": "stream",
          "text": [
            " 42%|████▏     | 440020/1058416 [1:09:09<1:53:41, 90.66it/s]"
          ]
        },
        {
          "metadata": {
            "tags": null
          },
          "name": "stdout",
          "output_type": "stream",
          "text": [
            "successfully stored: 440000\n"
          ]
        },
        {
          "metadata": {
            "tags": null
          },
          "name": "stderr",
          "output_type": "stream",
          "text": [
            " 43%|████▎     | 450015/1058416 [1:10:45<2:27:11, 68.89it/s]"
          ]
        },
        {
          "metadata": {
            "tags": null
          },
          "name": "stdout",
          "output_type": "stream",
          "text": [
            "successfully stored: 450000\n"
          ]
        },
        {
          "metadata": {
            "tags": null
          },
          "name": "stderr",
          "output_type": "stream",
          "text": [
            " 43%|████▎     | 460018/1058416 [1:12:24<1:24:31, 118.00it/s]"
          ]
        },
        {
          "metadata": {
            "tags": null
          },
          "name": "stdout",
          "output_type": "stream",
          "text": [
            "successfully stored: 460000\n"
          ]
        },
        {
          "metadata": {
            "tags": null
          },
          "name": "stderr",
          "output_type": "stream",
          "text": [
            " 44%|████▍     | 470015/1058416 [1:14:02<2:24:44, 67.76it/s]"
          ]
        },
        {
          "metadata": {
            "tags": null
          },
          "name": "stdout",
          "output_type": "stream",
          "text": [
            "successfully stored: 470000\n"
          ]
        },
        {
          "metadata": {
            "tags": null
          },
          "name": "stderr",
          "output_type": "stream",
          "text": [
            " 45%|████▌     | 480028/1058416 [1:15:38<1:10:53, 135.98it/s]"
          ]
        },
        {
          "metadata": {
            "tags": null
          },
          "name": "stdout",
          "output_type": "stream",
          "text": [
            "successfully stored: 480000\n"
          ]
        },
        {
          "metadata": {
            "tags": null
          },
          "name": "stderr",
          "output_type": "stream",
          "text": [
            " 46%|████▋     | 490028/1058416 [1:17:08<1:17:37, 122.05it/s]"
          ]
        },
        {
          "metadata": {
            "tags": null
          },
          "name": "stdout",
          "output_type": "stream",
          "text": [
            "successfully stored: 490000\n"
          ]
        },
        {
          "metadata": {
            "tags": null
          },
          "name": "stderr",
          "output_type": "stream",
          "text": [
            " 47%|████▋     | 500015/1058416 [1:18:53<1:51:27, 83.50it/s]"
          ]
        },
        {
          "metadata": {
            "tags": null
          },
          "name": "stdout",
          "output_type": "stream",
          "text": [
            "successfully stored: 500000\n"
          ]
        },
        {
          "metadata": {
            "tags": null
          },
          "name": "stderr",
          "output_type": "stream",
          "text": [
            " 48%|████▊     | 510025/1058416 [1:20:35<1:11:17, 128.22it/s]"
          ]
        },
        {
          "metadata": {
            "tags": null
          },
          "name": "stdout",
          "output_type": "stream",
          "text": [
            "successfully stored: 510000\n"
          ]
        },
        {
          "metadata": {
            "tags": null
          },
          "name": "stderr",
          "output_type": "stream",
          "text": [
            " 49%|████▉     | 520019/1058416 [1:22:08<1:54:52, 78.11it/s]"
          ]
        },
        {
          "metadata": {
            "tags": null
          },
          "name": "stdout",
          "output_type": "stream",
          "text": [
            "successfully stored: 520000\n"
          ]
        },
        {
          "metadata": {
            "tags": null
          },
          "name": "stderr",
          "output_type": "stream",
          "text": [
            " 50%|█████     | 530011/1058416 [1:23:46<1:36:42, 91.07it/s]"
          ]
        },
        {
          "metadata": {
            "tags": null
          },
          "name": "stdout",
          "output_type": "stream",
          "text": [
            "successfully stored: 530000\n"
          ]
        },
        {
          "metadata": {
            "tags": null
          },
          "name": "stderr",
          "output_type": "stream",
          "text": [
            " 51%|█████     | 540017/1058416 [1:25:16<1:36:51, 89.20it/s]"
          ]
        },
        {
          "metadata": {
            "tags": null
          },
          "name": "stdout",
          "output_type": "stream",
          "text": [
            "successfully stored: 540000\n"
          ]
        },
        {
          "metadata": {
            "tags": null
          },
          "name": "stderr",
          "output_type": "stream",
          "text": [
            " 52%|█████▏    | 550025/1058416 [1:26:46<1:09:54, 121.21it/s]"
          ]
        },
        {
          "metadata": {
            "tags": null
          },
          "name": "stdout",
          "output_type": "stream",
          "text": [
            "successfully stored: 550000\n"
          ]
        },
        {
          "metadata": {
            "tags": null
          },
          "name": "stderr",
          "output_type": "stream",
          "text": [
            " 53%|█████▎    | 560010/1058416 [1:28:10<1:17:23, 107.33it/s]"
          ]
        },
        {
          "metadata": {
            "tags": null
          },
          "name": "stdout",
          "output_type": "stream",
          "text": [
            "successfully stored: 560000\n"
          ]
        },
        {
          "metadata": {
            "tags": null
          },
          "name": "stderr",
          "output_type": "stream",
          "text": [
            " 54%|█████▍    | 570015/1058416 [1:29:37<1:36:45, 84.12it/s]"
          ]
        },
        {
          "metadata": {
            "tags": null
          },
          "name": "stdout",
          "output_type": "stream",
          "text": [
            "successfully stored: 570000\n"
          ]
        },
        {
          "metadata": {
            "tags": null
          },
          "name": "stderr",
          "output_type": "stream",
          "text": [
            " 55%|█████▍    | 580027/1058416 [1:31:04<1:13:07, 109.03it/s]"
          ]
        },
        {
          "metadata": {
            "tags": null
          },
          "name": "stdout",
          "output_type": "stream",
          "text": [
            "successfully stored: 580000\n"
          ]
        },
        {
          "metadata": {
            "tags": null
          },
          "name": "stderr",
          "output_type": "stream",
          "text": [
            " 56%|█████▌    | 590021/1058416 [1:32:30<1:15:07, 103.90it/s]"
          ]
        },
        {
          "metadata": {
            "tags": null
          },
          "name": "stdout",
          "output_type": "stream",
          "text": [
            "successfully stored: 590000\n"
          ]
        },
        {
          "metadata": {
            "tags": null
          },
          "name": "stderr",
          "output_type": "stream",
          "text": [
            " 57%|█████▋    | 600019/1058416 [1:33:57<1:11:43, 106.52it/s]"
          ]
        },
        {
          "metadata": {
            "tags": null
          },
          "name": "stdout",
          "output_type": "stream",
          "text": [
            "successfully stored: 600000\n"
          ]
        },
        {
          "metadata": {
            "tags": null
          },
          "name": "stderr",
          "output_type": "stream",
          "text": [
            " 58%|█████▊    | 610012/1058416 [1:35:24<1:21:27, 91.74it/s] "
          ]
        },
        {
          "metadata": {
            "tags": null
          },
          "name": "stdout",
          "output_type": "stream",
          "text": [
            "successfully stored: 610000\n"
          ]
        },
        {
          "metadata": {
            "tags": null
          },
          "name": "stderr",
          "output_type": "stream",
          "text": [
            " 59%|█████▊    | 620003/1058416 [1:36:52<1:17:06, 94.76it/s]"
          ]
        },
        {
          "metadata": {
            "tags": null
          },
          "name": "stdout",
          "output_type": "stream",
          "text": [
            "successfully stored: 620000\n"
          ]
        },
        {
          "metadata": {
            "tags": null
          },
          "name": "stderr",
          "output_type": "stream",
          "text": [
            " 60%|█████▉    | 630011/1058416 [1:38:18<1:24:11, 84.81it/s]"
          ]
        },
        {
          "metadata": {
            "tags": null
          },
          "name": "stdout",
          "output_type": "stream",
          "text": [
            "successfully stored: 630000\n"
          ]
        },
        {
          "metadata": {
            "tags": null
          },
          "name": "stderr",
          "output_type": "stream",
          "text": [
            " 60%|██████    | 640019/1058416 [1:39:47<1:02:45, 111.10it/s]"
          ]
        },
        {
          "metadata": {
            "tags": null
          },
          "name": "stdout",
          "output_type": "stream",
          "text": [
            "successfully stored: 640000\n"
          ]
        },
        {
          "metadata": {
            "tags": null
          },
          "name": "stderr",
          "output_type": "stream",
          "text": [
            " 61%|██████▏   | 650014/1058416 [1:41:21<1:29:34, 75.99it/s]"
          ]
        },
        {
          "metadata": {
            "tags": null
          },
          "name": "stdout",
          "output_type": "stream",
          "text": [
            "successfully stored: 650000\n"
          ]
        },
        {
          "metadata": {
            "tags": null
          },
          "name": "stderr",
          "output_type": "stream",
          "text": [
            " 62%|██████▏   | 660004/1058416 [1:42:46<1:08:22, 97.12it/s]"
          ]
        },
        {
          "metadata": {
            "tags": null
          },
          "name": "stdout",
          "output_type": "stream",
          "text": [
            "successfully stored: 660000\n"
          ]
        },
        {
          "metadata": {
            "tags": null
          },
          "name": "stderr",
          "output_type": "stream",
          "text": [
            " 63%|██████▎   | 670009/1058416 [1:44:16<1:14:10, 87.26it/s]"
          ]
        },
        {
          "metadata": {
            "tags": null
          },
          "name": "stdout",
          "output_type": "stream",
          "text": [
            "successfully stored: 670000\n"
          ]
        },
        {
          "metadata": {
            "tags": null
          },
          "name": "stderr",
          "output_type": "stream",
          "text": [
            " 64%|██████▍   | 680012/1058416 [1:45:39<1:03:17, 99.65it/s]"
          ]
        },
        {
          "metadata": {
            "tags": null
          },
          "name": "stdout",
          "output_type": "stream",
          "text": [
            "successfully stored: 680000\n"
          ]
        },
        {
          "metadata": {
            "tags": null
          },
          "name": "stderr",
          "output_type": "stream",
          "text": [
            " 65%|██████▌   | 690008/1058416 [1:47:06<1:24:53, 72.33it/s] "
          ]
        },
        {
          "metadata": {
            "tags": null
          },
          "name": "stdout",
          "output_type": "stream",
          "text": [
            "successfully stored: 690000\n"
          ]
        },
        {
          "metadata": {
            "tags": null
          },
          "name": "stderr",
          "output_type": "stream",
          "text": [
            " 66%|██████▌   | 700019/1058416 [1:48:37<1:14:48, 79.85it/s]"
          ]
        },
        {
          "metadata": {
            "tags": null
          },
          "name": "stdout",
          "output_type": "stream",
          "text": [
            "successfully stored: 700000\n"
          ]
        },
        {
          "metadata": {
            "tags": null
          },
          "name": "stderr",
          "output_type": "stream",
          "text": [
            " 67%|██████▋   | 710018/1058416 [1:50:12<51:58, 111.71it/s]"
          ]
        },
        {
          "metadata": {
            "tags": null
          },
          "name": "stdout",
          "output_type": "stream",
          "text": [
            "successfully stored: 710000\n"
          ]
        },
        {
          "metadata": {
            "tags": null
          },
          "name": "stderr",
          "output_type": "stream",
          "text": [
            " 68%|██████▊   | 720010/1058416 [1:51:45<1:09:10, 81.54it/s]"
          ]
        },
        {
          "metadata": {
            "tags": null
          },
          "name": "stdout",
          "output_type": "stream",
          "text": [
            "successfully stored: 720000\n"
          ]
        },
        {
          "metadata": {
            "tags": null
          },
          "name": "stderr",
          "output_type": "stream",
          "text": [
            " 69%|██████▉   | 730017/1058416 [1:53:22<1:01:28, 89.04it/s]"
          ]
        },
        {
          "metadata": {
            "tags": null
          },
          "name": "stdout",
          "output_type": "stream",
          "text": [
            "successfully stored: 730000\n"
          ]
        },
        {
          "metadata": {
            "tags": null
          },
          "name": "stderr",
          "output_type": "stream",
          "text": [
            " 70%|██████▉   | 740010/1058416 [1:55:02<1:10:45, 75.00it/s]"
          ]
        },
        {
          "metadata": {
            "tags": null
          },
          "name": "stdout",
          "output_type": "stream",
          "text": [
            "successfully stored: 740000\n"
          ]
        },
        {
          "metadata": {
            "tags": null
          },
          "name": "stderr",
          "output_type": "stream",
          "text": [
            " 71%|███████   | 750002/1058416 [1:56:39<58:48, 87.42it/s] "
          ]
        },
        {
          "metadata": {
            "tags": null
          },
          "name": "stdout",
          "output_type": "stream",
          "text": [
            "successfully stored: 750000\n"
          ]
        },
        {
          "metadata": {
            "tags": null
          },
          "name": "stderr",
          "output_type": "stream",
          "text": [
            " 72%|███████▏  | 760022/1058416 [1:58:20<53:02, 93.75it/s]  "
          ]
        },
        {
          "metadata": {
            "tags": null
          },
          "name": "stdout",
          "output_type": "stream",
          "text": [
            "successfully stored: 760000\n"
          ]
        },
        {
          "metadata": {
            "tags": null
          },
          "name": "stderr",
          "output_type": "stream",
          "text": [
            " 73%|███████▎  | 770015/1058416 [2:00:00<59:40, 80.54it/s]  "
          ]
        },
        {
          "metadata": {
            "tags": null
          },
          "name": "stdout",
          "output_type": "stream",
          "text": [
            "successfully stored: 770000\n"
          ]
        },
        {
          "metadata": {
            "tags": null
          },
          "name": "stderr",
          "output_type": "stream",
          "text": [
            " 74%|███████▎  | 780011/1058416 [2:01:30<58:06, 79.85it/s] "
          ]
        },
        {
          "metadata": {
            "tags": null
          },
          "name": "stdout",
          "output_type": "stream",
          "text": [
            "successfully stored: 780000\n"
          ]
        },
        {
          "metadata": {
            "tags": null
          },
          "name": "stderr",
          "output_type": "stream",
          "text": [
            " 75%|███████▍  | 790023/1058416 [2:02:57<38:26, 116.36it/s]"
          ]
        },
        {
          "metadata": {
            "tags": null
          },
          "name": "stdout",
          "output_type": "stream",
          "text": [
            "successfully stored: 790000\n"
          ]
        },
        {
          "metadata": {
            "tags": null
          },
          "name": "stderr",
          "output_type": "stream",
          "text": [
            " 76%|███████▌  | 800015/1058416 [2:04:35<43:10, 99.75it/s] "
          ]
        },
        {
          "metadata": {
            "tags": null
          },
          "name": "stdout",
          "output_type": "stream",
          "text": [
            "successfully stored: 800000\n"
          ]
        },
        {
          "metadata": {
            "tags": null
          },
          "name": "stderr",
          "output_type": "stream",
          "text": [
            " 77%|███████▋  | 810013/1058416 [2:06:14<52:00, 79.59it/s]  "
          ]
        },
        {
          "metadata": {
            "tags": null
          },
          "name": "stdout",
          "output_type": "stream",
          "text": [
            "successfully stored: 810000\n"
          ]
        },
        {
          "metadata": {
            "tags": null
          },
          "name": "stderr",
          "output_type": "stream",
          "text": [
            " 77%|███████▋  | 820009/1058416 [2:08:03<52:30, 75.66it/s] "
          ]
        },
        {
          "metadata": {
            "tags": null
          },
          "name": "stdout",
          "output_type": "stream",
          "text": [
            "successfully stored: 820000\n"
          ]
        },
        {
          "metadata": {
            "tags": null
          },
          "name": "stderr",
          "output_type": "stream",
          "text": [
            " 78%|███████▊  | 830010/1058416 [2:09:51<46:50, 81.26it/s]"
          ]
        },
        {
          "metadata": {
            "tags": null
          },
          "name": "stdout",
          "output_type": "stream",
          "text": [
            "successfully stored: 830000\n"
          ]
        },
        {
          "metadata": {
            "tags": null
          },
          "name": "stderr",
          "output_type": "stream",
          "text": [
            " 79%|███████▉  | 840011/1058416 [2:11:39<59:18, 61.38it/s]  "
          ]
        },
        {
          "metadata": {
            "tags": null
          },
          "name": "stdout",
          "output_type": "stream",
          "text": [
            "successfully stored: 840000\n"
          ]
        },
        {
          "metadata": {
            "tags": null
          },
          "name": "stderr",
          "output_type": "stream",
          "text": [
            " 80%|████████  | 850017/1058416 [2:13:26<45:10, 76.88it/s]"
          ]
        },
        {
          "metadata": {
            "tags": null
          },
          "name": "stdout",
          "output_type": "stream",
          "text": [
            "successfully stored: 850000\n"
          ]
        },
        {
          "metadata": {
            "tags": null
          },
          "name": "stderr",
          "output_type": "stream",
          "text": [
            " 81%|████████▏ | 860020/1058416 [2:15:14<42:06, 78.54it/s]"
          ]
        },
        {
          "metadata": {
            "tags": null
          },
          "name": "stdout",
          "output_type": "stream",
          "text": [
            "successfully stored: 860000\n"
          ]
        },
        {
          "metadata": {
            "tags": null
          },
          "name": "stderr",
          "output_type": "stream",
          "text": [
            " 82%|████████▏ | 870011/1058416 [2:17:01<47:07, 66.64it/s]"
          ]
        },
        {
          "metadata": {
            "tags": null
          },
          "name": "stdout",
          "output_type": "stream",
          "text": [
            "successfully stored: 870000\n"
          ]
        },
        {
          "metadata": {
            "tags": null
          },
          "name": "stderr",
          "output_type": "stream",
          "text": [
            " 83%|████████▎ | 880018/1058416 [2:18:47<40:49, 72.83it/s]"
          ]
        },
        {
          "metadata": {
            "tags": null
          },
          "name": "stdout",
          "output_type": "stream",
          "text": [
            "successfully stored: 880000\n"
          ]
        },
        {
          "metadata": {
            "tags": null
          },
          "name": "stderr",
          "output_type": "stream",
          "text": [
            " 84%|████████▍ | 890012/1058416 [2:20:36<42:53, 65.45it/s]"
          ]
        },
        {
          "metadata": {
            "tags": null
          },
          "name": "stdout",
          "output_type": "stream",
          "text": [
            "successfully stored: 890000\n"
          ]
        },
        {
          "metadata": {
            "tags": null
          },
          "name": "stderr",
          "output_type": "stream",
          "text": [
            " 85%|████████▌ | 900017/1058416 [2:22:28<38:42, 68.20it/s]"
          ]
        },
        {
          "metadata": {
            "tags": null
          },
          "name": "stdout",
          "output_type": "stream",
          "text": [
            "successfully stored: 900000\n"
          ]
        },
        {
          "metadata": {
            "tags": null
          },
          "name": "stderr",
          "output_type": "stream",
          "text": [
            " 86%|████████▌ | 910005/1058416 [2:24:19<41:03, 60.24it/s]"
          ]
        },
        {
          "metadata": {
            "tags": null
          },
          "name": "stdout",
          "output_type": "stream",
          "text": [
            "successfully stored: 910000\n"
          ]
        },
        {
          "metadata": {
            "tags": null
          },
          "name": "stderr",
          "output_type": "stream",
          "text": [
            " 87%|████████▋ | 920011/1058416 [2:26:11<35:12, 65.51it/s]"
          ]
        },
        {
          "metadata": {
            "tags": null
          },
          "name": "stdout",
          "output_type": "stream",
          "text": [
            "successfully stored: 920000\n"
          ]
        },
        {
          "metadata": {
            "tags": null
          },
          "name": "stderr",
          "output_type": "stream",
          "text": [
            " 88%|████████▊ | 930013/1058416 [2:27:49<27:55, 76.65it/s]"
          ]
        },
        {
          "metadata": {
            "tags": null
          },
          "name": "stdout",
          "output_type": "stream",
          "text": [
            "successfully stored: 930000\n"
          ]
        },
        {
          "metadata": {
            "tags": null
          },
          "name": "stderr",
          "output_type": "stream",
          "text": [
            " 89%|████████▉ | 940014/1058416 [2:29:30<23:14, 84.91it/s]"
          ]
        },
        {
          "metadata": {
            "tags": null
          },
          "name": "stdout",
          "output_type": "stream",
          "text": [
            "successfully stored: 940000\n"
          ]
        },
        {
          "metadata": {
            "tags": null
          },
          "name": "stderr",
          "output_type": "stream",
          "text": [
            " 90%|████████▉ | 950011/1058416 [2:31:12<22:47, 79.26it/s]"
          ]
        },
        {
          "metadata": {
            "tags": null
          },
          "name": "stdout",
          "output_type": "stream",
          "text": [
            "successfully stored: 950000\n"
          ]
        },
        {
          "metadata": {
            "tags": null
          },
          "name": "stderr",
          "output_type": "stream",
          "text": [
            " 91%|█████████ | 960025/1058416 [2:33:01<16:54, 96.95it/s]"
          ]
        },
        {
          "metadata": {
            "tags": null
          },
          "name": "stdout",
          "output_type": "stream",
          "text": [
            "successfully stored: 960000\n"
          ]
        },
        {
          "metadata": {
            "tags": null
          },
          "name": "stderr",
          "output_type": "stream",
          "text": [
            " 92%|█████████▏| 970019/1058416 [2:34:38<16:44, 87.99it/s]"
          ]
        },
        {
          "metadata": {
            "tags": null
          },
          "name": "stdout",
          "output_type": "stream",
          "text": [
            "successfully stored: 970000\n"
          ]
        },
        {
          "metadata": {
            "tags": null
          },
          "name": "stderr",
          "output_type": "stream",
          "text": [
            " 93%|█████████▎| 980021/1058416 [2:36:07<16:43, 78.12it/s]"
          ]
        },
        {
          "metadata": {
            "tags": null
          },
          "name": "stdout",
          "output_type": "stream",
          "text": [
            "successfully stored: 980000\n"
          ]
        },
        {
          "output_type": "stream",
          "name": "stderr",
          "text": [
            " 94%|█████████▎| 990013/1058416 [2:37:40<15:19, 74.36it/s] "
          ]
        },
        {
          "output_type": "stream",
          "name": "stdout",
          "text": [
            "successfully stored: 990000\n"
          ]
        },
        {
          "output_type": "stream",
          "name": "stderr",
          "text": [
            " 94%|█████████▍| 1000019/1058416 [2:39:09<09:41, 100.44it/s]"
          ]
        },
        {
          "output_type": "stream",
          "name": "stdout",
          "text": [
            "successfully stored: 1000000\n"
          ]
        },
        {
          "output_type": "stream",
          "name": "stderr",
          "text": [
            " 95%|█████████▌| 1010014/1058416 [2:40:34<08:03, 100.19it/s]"
          ]
        },
        {
          "output_type": "stream",
          "name": "stdout",
          "text": [
            "successfully stored: 1010000\n"
          ]
        },
        {
          "output_type": "stream",
          "name": "stderr",
          "text": [
            " 97%|█████████▋| 1023742/1058416 [2:42:01<00:04, 7595.24it/s]"
          ]
        },
        {
          "output_type": "stream",
          "name": "stdout",
          "text": [
            "successfully stored: 1020000\n"
          ]
        },
        {
          "output_type": "stream",
          "name": "stderr",
          "text": [
            " 98%|█████████▊| 1032901/1058416 [2:42:02<00:02, 11222.66it/s]"
          ]
        },
        {
          "output_type": "stream",
          "name": "stdout",
          "text": [
            "successfully stored: 1030000\n"
          ]
        },
        {
          "output_type": "stream",
          "name": "stderr",
          "text": [
            " 98%|█████████▊| 1042095/1058416 [2:42:03<00:01, 12060.33it/s]"
          ]
        },
        {
          "output_type": "stream",
          "name": "stdout",
          "text": [
            "successfully stored: 1040000\n"
          ]
        },
        {
          "output_type": "stream",
          "name": "stderr",
          "text": [
            "100%|█████████▉| 1053126/1058416 [2:42:04<00:00, 12123.48it/s]"
          ]
        },
        {
          "output_type": "stream",
          "name": "stdout",
          "text": [
            "successfully stored: 1050000\n"
          ]
        },
        {
          "output_type": "stream",
          "name": "stderr",
          "text": [
            "100%|██████████| 1058416/1058416 [2:42:04<00:00, 108.84it/s]  \n"
          ]
        }
      ]
    },
    {
      "cell_type": "markdown",
      "source": [
        "#### langdetect excludes too many entries -> using detect_langs for 10 iterations on the excluded user descriptions"
      ],
      "metadata": {
        "id": "btymWstYCnc9"
      }
    },
    {
      "cell_type": "code",
      "source": [
        "\"\"\"\"\n",
        "Looping through non_english and querying the user descriptions again, this time for 10 iterations and using detect_langs\n",
        "  returns [lang1:prob, lang2:prob]\n",
        "  if en is detected amongst the retun, detect_langs_identified_as_english is populated with the index\n",
        "  detect_langs returns variate over iterations\n",
        "\n",
        "For every 10 000 account the system stores detect_langs_identified_as_english\n",
        "\n",
        "Need to have non_english and no_bio in memory\n",
        "\"\"\"\n",
        "\n",
        "\n",
        "#Count is used to control storing intervals\n",
        "count = 0\n",
        "\n",
        "#Initiating empty variable that will be stored\n",
        "detect_langs_identified_as_english = []\n",
        "\n",
        "#looping through non_english\n",
        "for i in tqdm(non_english):\n",
        "  \n",
        "  count += 1\n",
        "\n",
        "  #Storing at every 10000 iterations\n",
        "  if count % 10000 == 0:\n",
        "    #Creating a series\n",
        "    detect_langs_identified_as_english_df = pd.DataFrame({'detect_langs_identified_as_english': pd.Series(detect_langs_identified_as_english)})\n",
        "    detect_langs_identified_as_english_df.to_json(FILE_PATH)\n",
        "  \n",
        "  #Performing detect_langs for 10 iterations\n",
        "  for j in range(10):\n",
        "    languages = detect_langs(df.user_description.iloc[i])\n",
        "    \n",
        "    #Checking for english in the returned language list\n",
        "    if \"en\" in str(languages):\n",
        "      detect_langs_identified_as_english.append(i)\n",
        "      #If english is found, the second for loop breaks\n",
        "      break"
      ],
      "metadata": {
        "colab": {
          "base_uri": "https://localhost:8080/"
        },
        "id": "qNAmBJu0FYiY",
        "outputId": "44126446-951f-4c28-c9bf-53cc4062f849"
      },
      "execution_count": null,
      "outputs": [
        {
          "output_type": "stream",
          "name": "stderr",
          "text": [
            " 78%|███████▊  | 146295/186877 [3:07:31<1:14:41,  9.05it/s]"
          ]
        }
      ]
    },
    {
      "cell_type": "markdown",
      "source": [
        "### Working with non_english and detect_langs_identified_as_english_df: - indexes (identified as non_english) | (might be english)"
      ],
      "metadata": {
        "id": "1gRgaHYrDLCi"
      }
    },
    {
      "cell_type": "code",
      "source": [
        "#Schema: remove non_english except for those that are bots in detect_langs_identified_as_english_df\n",
        "\n",
        "\n",
        "#Reading in the sources\n",
        "non_english =pd.read_json(FOLDER_PATH+'bio_non_english_and_no_bio.json').non_english.tolist()\n",
        "detect_langs_identified_as_english_df = pd.read_json(FOLDER_PATH+'detect_langs_identified_as_english_df.json')\n",
        "\n",
        "#Declaring indices\n",
        "detect_lang_indexes = detect_langs_identified_as_english_df.detect_langs_identified_as_english.tolist()\n",
        "\n",
        "#subsetting bots from detect_lang_indexes\n",
        "Bots_in_detect_lang_indexes = df.iloc[detect_lang_indexes][df.Bot ==1].index.tolist()\n",
        "\n",
        "#removing Bots_in_detect_lang_indexes from non_english\n",
        "non_english_excluding_Bots_in_detect_lang_indexes = [x for x in non_english if x not in Bots_in_detect_lang_indexes]\n",
        "\n",
        "#Dropping the unwanted indices\n",
        "df = df.drop(non_english_excluding_Bots_in_detect_lang_indexes)\n",
        "\n",
        "#Reseting index\n",
        "df = df.reset_index(drop=True)\n",
        "\n",
        "df\n"
      ],
      "metadata": {
        "id": "mL-ykmeADQR4",
        "colab": {
          "base_uri": "https://localhost:8080/"
        },
        "outputId": "7afbf36c-8287-41e6-f655-bf4048995612"
      },
      "execution_count": null,
      "outputs": [
        {
          "output_type": "stream",
          "name": "stderr",
          "text": [
            "/usr/local/lib/python3.7/dist-packages/ipykernel_launcher.py:8: UserWarning: Boolean Series key will be reindexed to match DataFrame index.\n",
            "  \n"
          ]
        }
      ]
    },
    {
      "cell_type": "markdown",
      "source": [
        "## Dropping duplicate user_ids"
      ],
      "metadata": {
        "id": "0nvtSe1Xwz-2"
      }
    },
    {
      "cell_type": "code",
      "source": [
        "df = df.drop_duplicates(subset='user_id', keep=\"first\")\n",
        "df"
      ],
      "metadata": {
        "id": "Y9xVDxFQwzbk"
      },
      "execution_count": null,
      "outputs": []
    },
    {
      "cell_type": "markdown",
      "metadata": {
        "id": "hgyPlQAlkVKo"
      },
      "source": [
        "# Storing the pre-processed data"
      ]
    },
    {
      "cell_type": "code",
      "execution_count": null,
      "metadata": {
        "id": "9hRRVCdIqSPb"
      },
      "outputs": [],
      "source": [
        "df.to_json(FILE_PATH)"
      ]
    }
  ],
  "metadata": {
    "colab": {
      "collapsed_sections": [],
      "machine_shape": "hm",
      "provenance": []
    },
    "kernelspec": {
      "display_name": "Python 3",
      "name": "python3"
    },
    "language_info": {
      "name": "python"
    }
  },
  "nbformat": 4,
  "nbformat_minor": 0
}